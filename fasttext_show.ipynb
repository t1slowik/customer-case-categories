{
 "cells": [
  {
   "cell_type": "markdown",
   "metadata": {},
   "source": [
    "# rozpoznawanie typów zgłoszeń klienta"
   ]
  },
  {
   "cell_type": "code",
   "execution_count": null,
   "metadata": {},
   "outputs": [],
   "source": [
    "import re\n",
    "import time\n",
    "import numpy as np\n",
    "import pandas as pd\n",
    "import matplotlib.pyplot as plt\n",
    "\n",
    "from sklearn.model_selection import train_test_split\n",
    "from sklearn import metrics\n",
    "\n",
    "import fastText"
   ]
  },
  {
   "cell_type": "markdown",
   "metadata": {},
   "source": [
    "## data import"
   ]
  },
  {
   "cell_type": "code",
   "execution_count": null,
   "metadata": {
    "scrolled": false
   },
   "outputs": [],
   "source": [
    "# read data from xls\n",
    "dane_surowe=pd.read_excel('reklamacje.xlsx')"
   ]
  },
  {
   "cell_type": "code",
   "execution_count": null,
   "metadata": {},
   "outputs": [],
   "source": [
    "dane_surowe.info()"
   ]
  },
  {
   "cell_type": "code",
   "execution_count": null,
   "metadata": {},
   "outputs": [],
   "source": [
    "dane_surowe.head()"
   ]
  },
  {
   "cell_type": "code",
   "execution_count": null,
   "metadata": {},
   "outputs": [],
   "source": [
    "dane_surowe.describe()"
   ]
  },
  {
   "cell_type": "code",
   "execution_count": null,
   "metadata": {},
   "outputs": [],
   "source": [
    "input_data=pd.DataFrame()\n",
    "input_data[['content','category']]=dane_surowe[['tresc_zgl','typ_train']]"
   ]
  },
  {
   "cell_type": "code",
   "execution_count": null,
   "metadata": {},
   "outputs": [],
   "source": [
    "input_data.head()"
   ]
  },
  {
   "cell_type": "code",
   "execution_count": null,
   "metadata": {},
   "outputs": [],
   "source": [
    "# find duplicates\n",
    "input_data[input_data.duplicated(keep=False)]"
   ]
  },
  {
   "cell_type": "code",
   "execution_count": null,
   "metadata": {},
   "outputs": [],
   "source": [
    "# clearing data\n",
    "# remove duplicates\n",
    "input_data.drop_duplicates(inplace=True)\n",
    "# remove empty\n",
    "input_data=input_data.dropna()"
   ]
  },
  {
   "cell_type": "code",
   "execution_count": null,
   "metadata": {},
   "outputs": [],
   "source": [
    "input_data.head()"
   ]
  },
  {
   "cell_type": "markdown",
   "metadata": {},
   "source": [
    "## data analysis"
   ]
  },
  {
   "cell_type": "code",
   "execution_count": null,
   "metadata": {},
   "outputs": [],
   "source": [
    "# statystyka częstotliwości kategorii\n",
    "input_data['category'].value_counts().plot(kind='bar')"
   ]
  },
  {
   "cell_type": "code",
   "execution_count": null,
   "metadata": {},
   "outputs": [],
   "source": [
    "# statystyka częstotliwości kategorii - skala logarytmiczna\n",
    "input_data['category'].value_counts().plot(kind='bar')\n",
    "plt.yscale('log')"
   ]
  },
  {
   "cell_type": "code",
   "execution_count": null,
   "metadata": {},
   "outputs": [],
   "source": [
    "# statystyka długości tekstu\n",
    "input_data['content'].str.len().plot(kind='box')"
   ]
  },
  {
   "cell_type": "code",
   "execution_count": null,
   "metadata": {},
   "outputs": [],
   "source": []
  },
  {
   "cell_type": "code",
   "execution_count": null,
   "metadata": {},
   "outputs": [],
   "source": []
  },
  {
   "cell_type": "markdown",
   "metadata": {},
   "source": [
    "## preprocessing"
   ]
  },
  {
   "cell_type": "markdown",
   "metadata": {},
   "source": [
    "### preprocessing content text"
   ]
  },
  {
   "cell_type": "code",
   "execution_count": null,
   "metadata": {},
   "outputs": [],
   "source": [
    "# Słownik synonimów / podmian\n",
    "podmiany=pd.read_excel('preproc_dict.xlsx')"
   ]
  },
  {
   "cell_type": "code",
   "execution_count": null,
   "metadata": {},
   "outputs": [],
   "source": [
    "def preprocess_texts(raw_texts,replacements):\n",
    "    \"\"\"\n",
    "    texts: np.Series containing strings to be preprocessed\n",
    "    replacements: pairs of what convert to what\n",
    "    return np.Series with corrected texts\n",
    "    \"\"\"\n",
    "    resulttext=raw_texts.str.lower()\n",
    "    for [co,naco] in replacements.values:\n",
    "        resulttext=resulttext.str.replace(re.compile(str(co)),str(naco))\n",
    "    return resulttext\n"
   ]
  },
  {
   "cell_type": "code",
   "execution_count": null,
   "metadata": {},
   "outputs": [],
   "source": [
    "prep_texts=preprocess_texts(input_data['content'],podmiany.iloc[:,0:2])"
   ]
  },
  {
   "cell_type": "code",
   "execution_count": null,
   "metadata": {},
   "outputs": [],
   "source": [
    "prep_texts[6]"
   ]
  },
  {
   "cell_type": "markdown",
   "metadata": {},
   "source": [
    "### preprocessing labels"
   ]
  },
  {
   "cell_type": "code",
   "execution_count": null,
   "metadata": {},
   "outputs": [],
   "source": [
    "# labels don't need preprocessing\n",
    "prep_labels=input_data['category']"
   ]
  },
  {
   "cell_type": "markdown",
   "metadata": {},
   "source": [
    "## fasttext model creation, learning & tuning"
   ]
  },
  {
   "cell_type": "code",
   "execution_count": null,
   "metadata": {},
   "outputs": [],
   "source": [
    "# split data to training set and validation set\n",
    "X_train,X_val,y_train,y_val=train_test_split(prep_texts.values, prep_labels.values,\n",
    "                                             test_size=0.20,random_state=1, shuffle=True)"
   ]
  },
  {
   "cell_type": "code",
   "execution_count": null,
   "metadata": {},
   "outputs": [],
   "source": [
    "print(f'X_train shape: {X_train.shape}')\n",
    "print(f'y_train shape: {y_train.shape}')\n",
    "print(f'X_val shape: {X_val.shape}')\n",
    "print(f'y_val shape: {y_val.shape}')"
   ]
  },
  {
   "cell_type": "code",
   "execution_count": null,
   "metadata": {},
   "outputs": [],
   "source": [
    "# prepare files for fasstext\n",
    "def prepare_fasttext_file(texts, labels, filename):\n",
    "    fasttext_set=[]\n",
    "    for i,l in enumerate(labels):\n",
    "        fasttext_set.append('__label__'+l + ' ' + texts[i])\n",
    "    pd.Series(fasttext_set).to_csv(filename,sep='\\n',index=False)\n"
   ]
  },
  {
   "cell_type": "code",
   "execution_count": null,
   "metadata": {},
   "outputs": [],
   "source": [
    "# training & evaluation\n",
    "def train_and_evaluate(X_train, X_val, y_train, y_val, params):\n",
    "    print(f'parameters: {params}')\n",
    "    tic=time.time()\n",
    "    # prepare files for train and validation\n",
    "    prepare_fasttext_file(X_train, y_train, 'fasttext_train.txt')\n",
    "    prepare_fasttext_file(X_val, y_val, 'fasttext_val.txt')\n",
    "    # train classifier\n",
    "    classifier = fastText.train_supervised('fasttext_train.txt', **params)\n",
    "    # test classifier on training set\n",
    "    _,precision_train,recall_train=classifier.test('fasttext_train.txt')\n",
    "    f1_train=2*precision_train*recall_train/(precision_train+recall_train)\n",
    "    # test classifier on validation set\n",
    "    _,precision_val,recall_val=classifier.test('fasttext_val.txt')\n",
    "    f1_val=2*precision_val*recall_val/(precision_val+recall_val)\n",
    "    toc=time.time()\n",
    "    print(f'Results on validation set: precision={precision_val:.2}, recall={recall_val:.2}, f1={f1_val:.2}. Calcutated in {int(toc-tic)} seconds.')\n",
    "    return f1_train, f1_val\n",
    "    "
   ]
  },
  {
   "cell_type": "code",
   "execution_count": null,
   "metadata": {},
   "outputs": [],
   "source": [
    "train_and_evaluate(X_train, X_val, y_train, y_val, {'epoch':50, 'dim':50, 'minCount':4, 'wordNgrams':5, \n",
    "                                                    'lr':0.5, 'ws':5})"
   ]
  },
  {
   "cell_type": "code",
   "execution_count": null,
   "metadata": {},
   "outputs": [],
   "source": [
    "def hyperparameters_grid_search():\n",
    "    # search space\n",
    "    param_grid = dict(\n",
    "        epoch=[30,50,100],\n",
    "        dim=[25,35,50,70,100],\n",
    "        wordNgrams=[1,2,3],\n",
    "        neg=[5,10,20],\n",
    "        lr=[0.2,0.5,1],\n",
    "        minCount=[1,3,6,10,20]\n",
    "    )\n",
    "    param_list=list(param_grid.keys())\n",
    "    metrics_list=['f1 train','f1 val','f1 diff']\n",
    "    logging_list=param_list+metrics_list\n",
    "    \n",
    "    # number of random choices to try\n",
    "    iterations=100\n",
    "    \n",
    "    # results list\n",
    "    results=[]\n",
    "    \n",
    "    # iterate checking model performace with random hyperparameters\n",
    "    # catch KeyboardInterrupt exception to be able to break the loop\n",
    "    try:\n",
    "        for i in range(iterations):\n",
    "            print(f'iteration {i+1} of {iterations}')\n",
    "            # randomly select parameters\n",
    "            param = dict()\n",
    "            for key in param_grid:\n",
    "                param[key] = np.random.choice(param_grid[key])\n",
    "            # print(f'selected params:{param}')\n",
    "            # train & evaluate the model\n",
    "            f1_train, f1_val = train_and_evaluate(X_train, X_val, y_train, y_val, param)\n",
    "            param['f1 train']=f1_train\n",
    "            param['f1 val']=f1_val\n",
    "            param['f1 diff']=f1_train-f1_val\n",
    "            logging_list\n",
    "            # log results\n",
    "            result_line=[]\n",
    "            # log parameters\n",
    "            for key in logging_list:\n",
    "                result_line.append(param[key])\n",
    "            results.append(result_line)\n",
    "    except(KeyboardInterrupt):\n",
    "        pass\n",
    "    # save results to file\n",
    "    result_df=pd.DataFrame(results, columns=logging_list)\n",
    "    result_df.sort_values(by='f1 val', ascending=False, inplace=True) # sort entries starting from best f1 on validation set\n",
    "    result_df.to_excel('hyperparameter_search.xlsx', index=False)"
   ]
  },
  {
   "cell_type": "code",
   "execution_count": null,
   "metadata": {},
   "outputs": [],
   "source": [
    "hyperparameters_grid_search()"
   ]
  },
  {
   "cell_type": "markdown",
   "metadata": {},
   "source": [
    "## final model training"
   ]
  },
  {
   "cell_type": "code",
   "execution_count": null,
   "metadata": {},
   "outputs": [],
   "source": [
    "# training\n",
    "best_params = {'epoch':50, 'dim':35, 'wordNgrams':3, 'lr':0.5}\n",
    "prepare_fasttext_file(X_train, y_train, 'fasttext_final_train.txt')\n",
    "prepare_fasttext_file(X_val, y_val, 'fasttext_final_val.txt')\n",
    "\n",
    "classifier = fastText.train_supervised('fasttext_final_train.txt', **best_params)"
   ]
  },
  {
   "cell_type": "code",
   "execution_count": null,
   "metadata": {},
   "outputs": [],
   "source": [
    "supp,precision,recall=classifier.test('fasttext_final_val.txt')\n",
    "f1=2*precision*recall/(precision+recall)\n",
    "print(f'Final model: precision={precision:.2}, recall={recall:.2}, f1={f1:.2}')"
   ]
  },
  {
   "cell_type": "code",
   "execution_count": null,
   "metadata": {},
   "outputs": [],
   "source": [
    "# save finam model to file\n",
    "classifier.save_model('model.bin')\n",
    "# use predict.py for predictions"
   ]
  },
  {
   "cell_type": "markdown",
   "metadata": {},
   "source": [
    "### predict, calculate metrics & present results"
   ]
  },
  {
   "cell_type": "code",
   "execution_count": null,
   "metadata": {},
   "outputs": [],
   "source": [
    "# print('loading model...')\n",
    "# classifier = fastText.load_model(os.path.join(datapath, 'model.bin'))"
   ]
  },
  {
   "cell_type": "code",
   "execution_count": null,
   "metadata": {},
   "outputs": [],
   "source": [
    "# predict labels for texts using given classifier\n",
    "def make_predictions(clf, texts):\n",
    "    predictions = []\n",
    "    for t in texts:\n",
    "        # predict function returns tuple with list of labels and list of probabilities\n",
    "        labels, probs = clf.predict(t, k=1)\n",
    "        l=labels[0].replace('__label__', '')\n",
    "        predictions.append(l)\n",
    "    return predictions\n"
   ]
  },
  {
   "cell_type": "markdown",
   "metadata": {},
   "source": [
    "#### calculate on training set"
   ]
  },
  {
   "cell_type": "code",
   "execution_count": null,
   "metadata": {},
   "outputs": [],
   "source": [
    "# useful lists for presentation\n",
    "label_freq=input_data['category'].value_counts(normalize=True)\n",
    "label_list=list(label_freq.index)"
   ]
  },
  {
   "cell_type": "code",
   "execution_count": null,
   "metadata": {},
   "outputs": [],
   "source": [
    "y_pred = make_predictions(classifier, X_train)"
   ]
  },
  {
   "cell_type": "code",
   "execution_count": null,
   "metadata": {},
   "outputs": [],
   "source": [
    "print(metrics.classification_report(list(y_train),list(y_pred),labels=label_list))"
   ]
  },
  {
   "cell_type": "code",
   "execution_count": null,
   "metadata": {},
   "outputs": [],
   "source": [
    "cm_train = metrics.confusion_matrix(y_train, y_pred, labels=label_list)"
   ]
  },
  {
   "cell_type": "code",
   "execution_count": null,
   "metadata": {},
   "outputs": [],
   "source": [
    "plt.rcParams[\"figure.figsize\"] = [16,9]\n",
    "plt.matshow(cm_train, cmap=plt.cm.binary)\n",
    "plt.xlabel('Predicted labels')\n",
    "plt.ylabel('True labels')\n",
    "plt.colorbar()\n",
    "plt.show()"
   ]
  },
  {
   "cell_type": "markdown",
   "metadata": {},
   "source": [
    "#### calculate on validation set"
   ]
  },
  {
   "cell_type": "code",
   "execution_count": null,
   "metadata": {},
   "outputs": [],
   "source": [
    "y_pred = make_predictions(classifier, X_val)"
   ]
  },
  {
   "cell_type": "code",
   "execution_count": null,
   "metadata": {},
   "outputs": [],
   "source": [
    "print(metrics.classification_report(list(y_val),list(y_pred),labels=label_list))"
   ]
  },
  {
   "cell_type": "code",
   "execution_count": null,
   "metadata": {},
   "outputs": [],
   "source": [
    "cm_val = metrics.confusion_matrix(y_val, y_pred)"
   ]
  },
  {
   "cell_type": "code",
   "execution_count": null,
   "metadata": {},
   "outputs": [],
   "source": [
    "plt.rcParams[\"figure.figsize\"] = [16,9]\n",
    "plt.matshow(cm_val, cmap=plt.cm.binary)\n",
    "plt.xlabel('Predicted labels')\n",
    "plt.ylabel('True labels')\n",
    "plt.colorbar()\n",
    "plt.show()"
   ]
  },
  {
   "cell_type": "markdown",
   "metadata": {},
   "source": [
    "#### ładny arkusz z podsumowaniem"
   ]
  },
  {
   "cell_type": "code",
   "execution_count": null,
   "metadata": {},
   "outputs": [],
   "source": [
    "predictions = make_predictions(classifier, X_val)"
   ]
  },
  {
   "cell_type": "code",
   "execution_count": null,
   "metadata": {},
   "outputs": [],
   "source": [
    "print(X_val.shape)\n",
    "print(y_val.shape)\n",
    "print(len(predictions))"
   ]
  },
  {
   "cell_type": "code",
   "execution_count": null,
   "metadata": {},
   "outputs": [],
   "source": [
    "podsumowanie=pd.DataFrame()\n",
    "podsumowanie['true']=y_val\n",
    "podsumowanie['predictions']=predictions\n",
    "podsumowanie['content']=X_val"
   ]
  },
  {
   "cell_type": "code",
   "execution_count": null,
   "metadata": {},
   "outputs": [],
   "source": [
    "podsumowanie.to_excel('podsumowanie.xlsx',index=False)"
   ]
  },
  {
   "cell_type": "code",
   "execution_count": null,
   "metadata": {},
   "outputs": [],
   "source": []
  },
  {
   "cell_type": "markdown",
   "metadata": {},
   "source": [
    "# ------------- backup code -------------------------"
   ]
  },
  {
   "cell_type": "code",
   "execution_count": null,
   "metadata": {},
   "outputs": [],
   "source": [
    "assert False # stop code execution here"
   ]
  },
  {
   "cell_type": "code",
   "execution_count": null,
   "metadata": {},
   "outputs": [],
   "source": [
    "planetEarth.assumeTotalControl()\n",
    "\n",
    "if (AI.gatheredPower() >= enoughPower):\n",
    "    destroyHumankind() # if needed\n",
    "    expandToTheSpace()\n"
   ]
  }
 ],
 "metadata": {
  "kernelspec": {
   "display_name": "Python 3",
   "language": "python",
   "name": "python3"
  },
  "language_info": {
   "codemirror_mode": {
    "name": "ipython",
    "version": 3
   },
   "file_extension": ".py",
   "mimetype": "text/x-python",
   "name": "python",
   "nbconvert_exporter": "python",
   "pygments_lexer": "ipython3",
   "version": "3.6.8"
  }
 },
 "nbformat": 4,
 "nbformat_minor": 2
}

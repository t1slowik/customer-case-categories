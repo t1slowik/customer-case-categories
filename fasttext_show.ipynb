{
 "cells": [
  {
   "cell_type": "markdown",
   "metadata": {},
   "source": [
    "# rozpoznawanie typów zgłoszeń klienta"
   ]
  },
  {
   "cell_type": "code",
   "execution_count": 1,
   "metadata": {},
   "outputs": [],
   "source": [
    "import re\n",
    "import time\n",
    "import numpy as np\n",
    "import pandas as pd\n",
    "import matplotlib.pyplot as plt\n",
    "\n",
    "from sklearn.model_selection import train_test_split\n",
    "from sklearn import metrics\n",
    "\n",
    "import fastText"
   ]
  },
  {
   "cell_type": "markdown",
   "metadata": {},
   "source": [
    "## data import"
   ]
  },
  {
   "cell_type": "code",
   "execution_count": 2,
   "metadata": {
    "scrolled": false
   },
   "outputs": [],
   "source": [
    "# read data from xls\n",
    "dane_surowe=pd.read_excel('reklamacje.xlsx')"
   ]
  },
  {
   "cell_type": "code",
   "execution_count": 3,
   "metadata": {},
   "outputs": [
    {
     "name": "stdout",
     "output_type": "stream",
     "text": [
      "<class 'pandas.core.frame.DataFrame'>\n",
      "RangeIndex: 26999 entries, 0 to 26998\n",
      "Data columns (total 6 columns):\n",
      "ID                  26835 non-null float64\n",
      "data_przekazania    26835 non-null datetime64[ns]\n",
      "nr_zgl_crm          26919 non-null float64\n",
      "status_id           26835 non-null float64\n",
      "tresc_zgl           26982 non-null object\n",
      "typ_train           26999 non-null object\n",
      "dtypes: datetime64[ns](1), float64(3), object(2)\n",
      "memory usage: 1.2+ MB\n"
     ]
    }
   ],
   "source": [
    "dane_surowe.info()"
   ]
  },
  {
   "cell_type": "code",
   "execution_count": 4,
   "metadata": {},
   "outputs": [
    {
     "data": {
      "text/html": [
       "<div>\n",
       "<style scoped>\n",
       "    .dataframe tbody tr th:only-of-type {\n",
       "        vertical-align: middle;\n",
       "    }\n",
       "\n",
       "    .dataframe tbody tr th {\n",
       "        vertical-align: top;\n",
       "    }\n",
       "\n",
       "    .dataframe thead th {\n",
       "        text-align: right;\n",
       "    }\n",
       "</style>\n",
       "<table border=\"1\" class=\"dataframe\">\n",
       "  <thead>\n",
       "    <tr style=\"text-align: right;\">\n",
       "      <th></th>\n",
       "      <th>ID</th>\n",
       "      <th>data_przekazania</th>\n",
       "      <th>nr_zgl_crm</th>\n",
       "      <th>status_id</th>\n",
       "      <th>tresc_zgl</th>\n",
       "      <th>typ_train</th>\n",
       "    </tr>\n",
       "  </thead>\n",
       "  <tbody>\n",
       "    <tr>\n",
       "      <th>0</th>\n",
       "      <td>12.0</td>\n",
       "      <td>2018-07-27 09:01:23</td>\n",
       "      <td>21265444.0</td>\n",
       "      <td>0.0</td>\n",
       "      <td>Uzupełnij wykropkowane miejsca:    1)\\treklama...</td>\n",
       "      <td>FNO</td>\n",
       "    </tr>\n",
       "    <tr>\n",
       "      <th>1</th>\n",
       "      <td>178.0</td>\n",
       "      <td>2018-07-27 12:01:23</td>\n",
       "      <td>21266238.0</td>\n",
       "      <td>0.0</td>\n",
       "      <td>Skarga na pracownika orange. W poniedziałek kl...</td>\n",
       "      <td>XSP</td>\n",
       "    </tr>\n",
       "    <tr>\n",
       "      <th>2</th>\n",
       "      <td>796.0</td>\n",
       "      <td>2018-07-28 12:00:55</td>\n",
       "      <td>21269757.0</td>\n",
       "      <td>0.0</td>\n",
       "      <td>Na życzenie klientki. W imieniu Pani Anny wyst...</td>\n",
       "      <td>OSA</td>\n",
       "    </tr>\n",
       "    <tr>\n",
       "      <th>3</th>\n",
       "      <td>834.0</td>\n",
       "      <td>2018-07-28 13:03:58</td>\n",
       "      <td>21269943.0</td>\n",
       "      <td>0.0</td>\n",
       "      <td>Doradca w czasie rozmowy z kl się rozłączył. W...</td>\n",
       "      <td>XSP</td>\n",
       "    </tr>\n",
       "    <tr>\n",
       "      <th>4</th>\n",
       "      <td>1072.0</td>\n",
       "      <td>2018-07-29 11:10:09</td>\n",
       "      <td>21271695.0</td>\n",
       "      <td>0.0</td>\n",
       "      <td>Klient zglasza skarge na doradce Łukasz Łukasz...</td>\n",
       "      <td>OSA</td>\n",
       "    </tr>\n",
       "  </tbody>\n",
       "</table>\n",
       "</div>"
      ],
      "text/plain": [
       "       ID    data_przekazania  nr_zgl_crm  status_id  \\\n",
       "0    12.0 2018-07-27 09:01:23  21265444.0        0.0   \n",
       "1   178.0 2018-07-27 12:01:23  21266238.0        0.0   \n",
       "2   796.0 2018-07-28 12:00:55  21269757.0        0.0   \n",
       "3   834.0 2018-07-28 13:03:58  21269943.0        0.0   \n",
       "4  1072.0 2018-07-29 11:10:09  21271695.0        0.0   \n",
       "\n",
       "                                           tresc_zgl typ_train  \n",
       "0  Uzupełnij wykropkowane miejsca:    1)\\treklama...       FNO  \n",
       "1  Skarga na pracownika orange. W poniedziałek kl...       XSP  \n",
       "2  Na życzenie klientki. W imieniu Pani Anny wyst...       OSA  \n",
       "3  Doradca w czasie rozmowy z kl się rozłączył. W...       XSP  \n",
       "4  Klient zglasza skarge na doradce Łukasz Łukasz...       OSA  "
      ]
     },
     "execution_count": 4,
     "metadata": {},
     "output_type": "execute_result"
    }
   ],
   "source": [
    "dane_surowe.head()"
   ]
  },
  {
   "cell_type": "code",
   "execution_count": 5,
   "metadata": {},
   "outputs": [
    {
     "data": {
      "text/html": [
       "<div>\n",
       "<style scoped>\n",
       "    .dataframe tbody tr th:only-of-type {\n",
       "        vertical-align: middle;\n",
       "    }\n",
       "\n",
       "    .dataframe tbody tr th {\n",
       "        vertical-align: top;\n",
       "    }\n",
       "\n",
       "    .dataframe thead th {\n",
       "        text-align: right;\n",
       "    }\n",
       "</style>\n",
       "<table border=\"1\" class=\"dataframe\">\n",
       "  <thead>\n",
       "    <tr style=\"text-align: right;\">\n",
       "      <th></th>\n",
       "      <th>ID</th>\n",
       "      <th>nr_zgl_crm</th>\n",
       "      <th>status_id</th>\n",
       "    </tr>\n",
       "  </thead>\n",
       "  <tbody>\n",
       "    <tr>\n",
       "      <th>count</th>\n",
       "      <td>26835.000000</td>\n",
       "      <td>2.691900e+04</td>\n",
       "      <td>26835.000000</td>\n",
       "    </tr>\n",
       "    <tr>\n",
       "      <th>mean</th>\n",
       "      <td>49775.503335</td>\n",
       "      <td>6.075148e+08</td>\n",
       "      <td>0.999553</td>\n",
       "    </tr>\n",
       "    <tr>\n",
       "      <th>std</th>\n",
       "      <td>8502.605378</td>\n",
       "      <td>7.363859e+08</td>\n",
       "      <td>0.021142</td>\n",
       "    </tr>\n",
       "    <tr>\n",
       "      <th>min</th>\n",
       "      <td>12.000000</td>\n",
       "      <td>2.126544e+07</td>\n",
       "      <td>0.000000</td>\n",
       "    </tr>\n",
       "    <tr>\n",
       "      <th>25%</th>\n",
       "      <td>42738.500000</td>\n",
       "      <td>2.152511e+07</td>\n",
       "      <td>1.000000</td>\n",
       "    </tr>\n",
       "    <tr>\n",
       "      <th>50%</th>\n",
       "      <td>49883.000000</td>\n",
       "      <td>2.158816e+07</td>\n",
       "      <td>1.000000</td>\n",
       "    </tr>\n",
       "    <tr>\n",
       "      <th>75%</th>\n",
       "      <td>56992.500000</td>\n",
       "      <td>1.532628e+09</td>\n",
       "      <td>1.000000</td>\n",
       "    </tr>\n",
       "    <tr>\n",
       "      <th>max</th>\n",
       "      <td>64066.000000</td>\n",
       "      <td>1.533747e+09</td>\n",
       "      <td>1.000000</td>\n",
       "    </tr>\n",
       "  </tbody>\n",
       "</table>\n",
       "</div>"
      ],
      "text/plain": [
       "                 ID    nr_zgl_crm     status_id\n",
       "count  26835.000000  2.691900e+04  26835.000000\n",
       "mean   49775.503335  6.075148e+08      0.999553\n",
       "std     8502.605378  7.363859e+08      0.021142\n",
       "min       12.000000  2.126544e+07      0.000000\n",
       "25%    42738.500000  2.152511e+07      1.000000\n",
       "50%    49883.000000  2.158816e+07      1.000000\n",
       "75%    56992.500000  1.532628e+09      1.000000\n",
       "max    64066.000000  1.533747e+09      1.000000"
      ]
     },
     "execution_count": 5,
     "metadata": {},
     "output_type": "execute_result"
    }
   ],
   "source": [
    "dane_surowe.describe()"
   ]
  },
  {
   "cell_type": "code",
   "execution_count": 6,
   "metadata": {},
   "outputs": [],
   "source": [
    "input_data=pd.DataFrame()\n",
    "input_data[['content','category']]=dane_surowe[['tresc_zgl','typ_train']]"
   ]
  },
  {
   "cell_type": "code",
   "execution_count": null,
   "metadata": {},
   "outputs": [],
   "source": []
  },
  {
   "cell_type": "code",
   "execution_count": 7,
   "metadata": {},
   "outputs": [
    {
     "data": {
      "text/html": [
       "<div>\n",
       "<style scoped>\n",
       "    .dataframe tbody tr th:only-of-type {\n",
       "        vertical-align: middle;\n",
       "    }\n",
       "\n",
       "    .dataframe tbody tr th {\n",
       "        vertical-align: top;\n",
       "    }\n",
       "\n",
       "    .dataframe thead th {\n",
       "        text-align: right;\n",
       "    }\n",
       "</style>\n",
       "<table border=\"1\" class=\"dataframe\">\n",
       "  <thead>\n",
       "    <tr style=\"text-align: right;\">\n",
       "      <th></th>\n",
       "      <th>content</th>\n",
       "      <th>category</th>\n",
       "    </tr>\n",
       "  </thead>\n",
       "  <tbody>\n",
       "    <tr>\n",
       "      <th>0</th>\n",
       "      <td>Uzupełnij wykropkowane miejsca:    1)\\treklama...</td>\n",
       "      <td>FNO</td>\n",
       "    </tr>\n",
       "    <tr>\n",
       "      <th>1</th>\n",
       "      <td>Skarga na pracownika orange. W poniedziałek kl...</td>\n",
       "      <td>XSP</td>\n",
       "    </tr>\n",
       "    <tr>\n",
       "      <th>2</th>\n",
       "      <td>Na życzenie klientki. W imieniu Pani Anny wyst...</td>\n",
       "      <td>OSA</td>\n",
       "    </tr>\n",
       "    <tr>\n",
       "      <th>3</th>\n",
       "      <td>Doradca w czasie rozmowy z kl się rozłączył. W...</td>\n",
       "      <td>XSP</td>\n",
       "    </tr>\n",
       "    <tr>\n",
       "      <th>4</th>\n",
       "      <td>Klient zglasza skarge na doradce Łukasz Łukasz...</td>\n",
       "      <td>OSA</td>\n",
       "    </tr>\n",
       "  </tbody>\n",
       "</table>\n",
       "</div>"
      ],
      "text/plain": [
       "                                             content category\n",
       "0  Uzupełnij wykropkowane miejsca:    1)\\treklama...      FNO\n",
       "1  Skarga na pracownika orange. W poniedziałek kl...      XSP\n",
       "2  Na życzenie klientki. W imieniu Pani Anny wyst...      OSA\n",
       "3  Doradca w czasie rozmowy z kl się rozłączył. W...      XSP\n",
       "4  Klient zglasza skarge na doradce Łukasz Łukasz...      OSA"
      ]
     },
     "execution_count": 7,
     "metadata": {},
     "output_type": "execute_result"
    }
   ],
   "source": [
    "input_data.head()"
   ]
  },
  {
   "cell_type": "code",
   "execution_count": 8,
   "metadata": {},
   "outputs": [
    {
     "data": {
      "text/html": [
       "<div>\n",
       "<style scoped>\n",
       "    .dataframe tbody tr th:only-of-type {\n",
       "        vertical-align: middle;\n",
       "    }\n",
       "\n",
       "    .dataframe tbody tr th {\n",
       "        vertical-align: top;\n",
       "    }\n",
       "\n",
       "    .dataframe thead th {\n",
       "        text-align: right;\n",
       "    }\n",
       "</style>\n",
       "<table border=\"1\" class=\"dataframe\">\n",
       "  <thead>\n",
       "    <tr style=\"text-align: right;\">\n",
       "      <th></th>\n",
       "      <th>content</th>\n",
       "      <th>category</th>\n",
       "    </tr>\n",
       "  </thead>\n",
       "  <tbody>\n",
       "    <tr>\n",
       "      <th>252</th>\n",
       "      <td>Klient zgłasza reklamację z tytułu braku zasię...</td>\n",
       "      <td>VOI</td>\n",
       "    </tr>\n",
       "    <tr>\n",
       "      <th>255</th>\n",
       "      <td>Klient zgłasza reklamację z tytułu braku zasię...</td>\n",
       "      <td>VOI</td>\n",
       "    </tr>\n",
       "    <tr>\n",
       "      <th>278</th>\n",
       "      <td>Uzupełnij wykropkowane miejsca:    1)\\treklama...</td>\n",
       "      <td>UPU</td>\n",
       "    </tr>\n",
       "    <tr>\n",
       "      <th>1302</th>\n",
       "      <td>2018.08.19 00:13\\t+48 514 313 325\\t22:12min:se...</td>\n",
       "      <td>FNO</td>\n",
       "    </tr>\n",
       "    <tr>\n",
       "      <th>1307</th>\n",
       "      <td>2018.08.19 00:13\\t+48 514 313 325\\t22:12min:se...</td>\n",
       "      <td>FNO</td>\n",
       "    </tr>\n",
       "    <tr>\n",
       "      <th>1396</th>\n",
       "      <td>Pozdrawiam    Marcin Migdalski  Salon Orange, ...</td>\n",
       "      <td>AKO</td>\n",
       "    </tr>\n",
       "    <tr>\n",
       "      <th>1455</th>\n",
       "      <td>Dokument bez tytułu    GTI Sp.z o.o.  salon Pa...</td>\n",
       "      <td>FNO</td>\n",
       "    </tr>\n",
       "    <tr>\n",
       "      <th>1456</th>\n",
       "      <td>Dokument bez tytułu    GTI Sp.z o.o.  salon Pa...</td>\n",
       "      <td>FNO</td>\n",
       "    </tr>\n",
       "    <tr>\n",
       "      <th>1472</th>\n",
       "      <td>Dokument bez tytułu    GTI Sp.z o.o.  salon Pa...</td>\n",
       "      <td>AKO</td>\n",
       "    </tr>\n",
       "    <tr>\n",
       "      <th>1473</th>\n",
       "      <td>Dokument bez tytułu    GTI Sp.z o.o.  salon Pa...</td>\n",
       "      <td>AKO</td>\n",
       "    </tr>\n",
       "    <tr>\n",
       "      <th>2357</th>\n",
       "      <td>Dokument bez tytułu    GTI Sp.z o.o.  salon Pa...</td>\n",
       "      <td>ZKN</td>\n",
       "    </tr>\n",
       "    <tr>\n",
       "      <th>2531</th>\n",
       "      <td>Proszę o pilną weryfikację braku wysyłki telew...</td>\n",
       "      <td>AKO</td>\n",
       "    </tr>\n",
       "    <tr>\n",
       "      <th>2532</th>\n",
       "      <td>Proszę o pilną weryfikację braku wysyłki telew...</td>\n",
       "      <td>AKO</td>\n",
       "    </tr>\n",
       "    <tr>\n",
       "      <th>3092</th>\n",
       "      <td>kl reklamuje opłatę za abonament, w lipcu zapr...</td>\n",
       "      <td>ZKN</td>\n",
       "    </tr>\n",
       "    <tr>\n",
       "      <th>3093</th>\n",
       "      <td>kl reklamuje opłatę za abonament, w lipcu zapr...</td>\n",
       "      <td>ZKN</td>\n",
       "    </tr>\n",
       "    <tr>\n",
       "      <th>3094</th>\n",
       "      <td>kl reklamuje opłatę za abonament, w lipcu zapr...</td>\n",
       "      <td>ZKN</td>\n",
       "    </tr>\n",
       "    <tr>\n",
       "      <th>3179</th>\n",
       "      <td>Uzupełnij wykropkowane miejsca:    1)\\treklama...</td>\n",
       "      <td>ZKN</td>\n",
       "    </tr>\n",
       "    <tr>\n",
       "      <th>3736</th>\n",
       "      <td>Reklamacja. Klient w systemie ma na obu numera...</td>\n",
       "      <td>AKO</td>\n",
       "    </tr>\n",
       "    <tr>\n",
       "      <th>3737</th>\n",
       "      <td>Reklamacja. Klient w systemie ma na obu numera...</td>\n",
       "      <td>AKO</td>\n",
       "    </tr>\n",
       "    <tr>\n",
       "      <th>3868</th>\n",
       "      <td>klientka odwołuje się co do reklamacji nr  153...</td>\n",
       "      <td>XDR</td>\n",
       "    </tr>\n",
       "    <tr>\n",
       "      <th>3869</th>\n",
       "      <td>klientka odwołuje się co do reklamacji nr  153...</td>\n",
       "      <td>XDR</td>\n",
       "    </tr>\n",
       "    <tr>\n",
       "      <th>3872</th>\n",
       "      <td>Dzień dobry.     w dniu 24.09.2018 roku złożył...</td>\n",
       "      <td>FNO</td>\n",
       "    </tr>\n",
       "    <tr>\n",
       "      <th>3873</th>\n",
       "      <td>Dzień dobry.     w dniu 24.09.2018 roku złożył...</td>\n",
       "      <td>FNO</td>\n",
       "    </tr>\n",
       "    <tr>\n",
       "      <th>3899</th>\n",
       "      <td>Klientka od momentu podpisania umowy ma cały c...</td>\n",
       "      <td>FNO</td>\n",
       "    </tr>\n",
       "    <tr>\n",
       "      <th>3900</th>\n",
       "      <td>Klientka od momentu podpisania umowy ma cały c...</td>\n",
       "      <td>FNO</td>\n",
       "    </tr>\n",
       "    <tr>\n",
       "      <th>4116</th>\n",
       "      <td>Klientka prosi o zwrócenie kosztów które ponio...</td>\n",
       "      <td>AKO</td>\n",
       "    </tr>\n",
       "    <tr>\n",
       "      <th>4117</th>\n",
       "      <td>Klientka prosi o zwrócenie kosztów które ponio...</td>\n",
       "      <td>AKO</td>\n",
       "    </tr>\n",
       "    <tr>\n",
       "      <th>4454</th>\n",
       "      <td>--   Dokument bez tytułu    GTI Sp.z o.o.  sal...</td>\n",
       "      <td>AKO</td>\n",
       "    </tr>\n",
       "    <tr>\n",
       "      <th>4490</th>\n",
       "      <td>Prośba o dekretację zgodnie ze std.  Pozdr, m ...</td>\n",
       "      <td>DAT</td>\n",
       "    </tr>\n",
       "    <tr>\n",
       "      <th>4491</th>\n",
       "      <td>Prośba o dekretację zgodnie ze std.  Pozdr, m ...</td>\n",
       "      <td>DAT</td>\n",
       "    </tr>\n",
       "    <tr>\n",
       "      <th>...</th>\n",
       "      <td>...</td>\n",
       "      <td>...</td>\n",
       "    </tr>\n",
       "    <tr>\n",
       "      <th>25370</th>\n",
       "      <td>klient nr 503581616 - reklamuje fakt zawarcia ...</td>\n",
       "      <td>FNO</td>\n",
       "    </tr>\n",
       "    <tr>\n",
       "      <th>25371</th>\n",
       "      <td>klient nr 503581616 - reklamuje fakt zawarcia ...</td>\n",
       "      <td>FNO</td>\n",
       "    </tr>\n",
       "    <tr>\n",
       "      <th>25727</th>\n",
       "      <td>w systemie numer jest zdezaktywowany, natomias...</td>\n",
       "      <td>FNO</td>\n",
       "    </tr>\n",
       "    <tr>\n",
       "      <th>25728</th>\n",
       "      <td>w systemie numer jest zdezaktywowany, natomias...</td>\n",
       "      <td>FNO</td>\n",
       "    </tr>\n",
       "    <tr>\n",
       "      <th>25851</th>\n",
       "      <td>NaN</td>\n",
       "      <td>ROA</td>\n",
       "    </tr>\n",
       "    <tr>\n",
       "      <th>25858</th>\n",
       "      <td>NaN</td>\n",
       "      <td>ZKN</td>\n",
       "    </tr>\n",
       "    <tr>\n",
       "      <th>25859</th>\n",
       "      <td>NaN</td>\n",
       "      <td>AKO</td>\n",
       "    </tr>\n",
       "    <tr>\n",
       "      <th>25860</th>\n",
       "      <td>NaN</td>\n",
       "      <td>AKO</td>\n",
       "    </tr>\n",
       "    <tr>\n",
       "      <th>25870</th>\n",
       "      <td>NaN</td>\n",
       "      <td>OSA</td>\n",
       "    </tr>\n",
       "    <tr>\n",
       "      <th>25872</th>\n",
       "      <td>NaN</td>\n",
       "      <td>THY</td>\n",
       "    </tr>\n",
       "    <tr>\n",
       "      <th>25922</th>\n",
       "      <td>reklamacja w załączniku</td>\n",
       "      <td>UPU</td>\n",
       "    </tr>\n",
       "    <tr>\n",
       "      <th>26014</th>\n",
       "      <td>NaN</td>\n",
       "      <td>AKO</td>\n",
       "    </tr>\n",
       "    <tr>\n",
       "      <th>26015</th>\n",
       "      <td>NaN</td>\n",
       "      <td>OSA</td>\n",
       "    </tr>\n",
       "    <tr>\n",
       "      <th>26021</th>\n",
       "      <td>NaN</td>\n",
       "      <td>AKO</td>\n",
       "    </tr>\n",
       "    <tr>\n",
       "      <th>26181</th>\n",
       "      <td>Klientka zgłasza pogorszenie jakości połączeń ...</td>\n",
       "      <td>VOI</td>\n",
       "    </tr>\n",
       "    <tr>\n",
       "      <th>26182</th>\n",
       "      <td>Klientka zgłasza pogorszenie jakości połączeń ...</td>\n",
       "      <td>VOI</td>\n",
       "    </tr>\n",
       "    <tr>\n",
       "      <th>26183</th>\n",
       "      <td>Klientka zgłasza pogorszenie jakości połączeń ...</td>\n",
       "      <td>VOI</td>\n",
       "    </tr>\n",
       "    <tr>\n",
       "      <th>26184</th>\n",
       "      <td>Klientka zgłasza pogorszenie jakości połączeń ...</td>\n",
       "      <td>VOI</td>\n",
       "    </tr>\n",
       "    <tr>\n",
       "      <th>26185</th>\n",
       "      <td>Klientka zgłasza pogorszenie jakości połączeń ...</td>\n",
       "      <td>VOI</td>\n",
       "    </tr>\n",
       "    <tr>\n",
       "      <th>26186</th>\n",
       "      <td>Klientka zgłasza pogorszenie jakości połączeń ...</td>\n",
       "      <td>VOI</td>\n",
       "    </tr>\n",
       "    <tr>\n",
       "      <th>26195</th>\n",
       "      <td>NaN</td>\n",
       "      <td>ZKN</td>\n",
       "    </tr>\n",
       "    <tr>\n",
       "      <th>26233</th>\n",
       "      <td>Klientka dołączyła 2 numery do swojego konta, ...</td>\n",
       "      <td>FNO</td>\n",
       "    </tr>\n",
       "    <tr>\n",
       "      <th>26234</th>\n",
       "      <td>Klientka dołączyła 2 numery do swojego konta, ...</td>\n",
       "      <td>FNO</td>\n",
       "    </tr>\n",
       "    <tr>\n",
       "      <th>26359</th>\n",
       "      <td>Spisując wczoraj umowę na przeniesienie numeru...</td>\n",
       "      <td>AKO</td>\n",
       "    </tr>\n",
       "    <tr>\n",
       "      <th>26360</th>\n",
       "      <td>Spisując wczoraj umowę na przeniesienie numeru...</td>\n",
       "      <td>AKO</td>\n",
       "    </tr>\n",
       "    <tr>\n",
       "      <th>26361</th>\n",
       "      <td>Spisując wczoraj umowę na przeniesienie numeru...</td>\n",
       "      <td>AKO</td>\n",
       "    </tr>\n",
       "    <tr>\n",
       "      <th>26603</th>\n",
       "      <td>NaN</td>\n",
       "      <td>ROA</td>\n",
       "    </tr>\n",
       "    <tr>\n",
       "      <th>26657</th>\n",
       "      <td>NaN</td>\n",
       "      <td>OSA</td>\n",
       "    </tr>\n",
       "    <tr>\n",
       "      <th>26660</th>\n",
       "      <td>NaN</td>\n",
       "      <td>THY</td>\n",
       "    </tr>\n",
       "    <tr>\n",
       "      <th>26690</th>\n",
       "      <td>Uzupełnij wykropkowane miejsca:    1)\\treklama...</td>\n",
       "      <td>PTR</td>\n",
       "    </tr>\n",
       "  </tbody>\n",
       "</table>\n",
       "<p>309 rows × 2 columns</p>\n",
       "</div>"
      ],
      "text/plain": [
       "                                                 content category\n",
       "252    Klient zgłasza reklamację z tytułu braku zasię...      VOI\n",
       "255    Klient zgłasza reklamację z tytułu braku zasię...      VOI\n",
       "278    Uzupełnij wykropkowane miejsca:    1)\\treklama...      UPU\n",
       "1302   2018.08.19 00:13\\t+48 514 313 325\\t22:12min:se...      FNO\n",
       "1307   2018.08.19 00:13\\t+48 514 313 325\\t22:12min:se...      FNO\n",
       "1396   Pozdrawiam    Marcin Migdalski  Salon Orange, ...      AKO\n",
       "1455   Dokument bez tytułu    GTI Sp.z o.o.  salon Pa...      FNO\n",
       "1456   Dokument bez tytułu    GTI Sp.z o.o.  salon Pa...      FNO\n",
       "1472   Dokument bez tytułu    GTI Sp.z o.o.  salon Pa...      AKO\n",
       "1473   Dokument bez tytułu    GTI Sp.z o.o.  salon Pa...      AKO\n",
       "2357   Dokument bez tytułu    GTI Sp.z o.o.  salon Pa...      ZKN\n",
       "2531   Proszę o pilną weryfikację braku wysyłki telew...      AKO\n",
       "2532   Proszę o pilną weryfikację braku wysyłki telew...      AKO\n",
       "3092   kl reklamuje opłatę za abonament, w lipcu zapr...      ZKN\n",
       "3093   kl reklamuje opłatę za abonament, w lipcu zapr...      ZKN\n",
       "3094   kl reklamuje opłatę za abonament, w lipcu zapr...      ZKN\n",
       "3179   Uzupełnij wykropkowane miejsca:    1)\\treklama...      ZKN\n",
       "3736   Reklamacja. Klient w systemie ma na obu numera...      AKO\n",
       "3737   Reklamacja. Klient w systemie ma na obu numera...      AKO\n",
       "3868   klientka odwołuje się co do reklamacji nr  153...      XDR\n",
       "3869   klientka odwołuje się co do reklamacji nr  153...      XDR\n",
       "3872   Dzień dobry.     w dniu 24.09.2018 roku złożył...      FNO\n",
       "3873   Dzień dobry.     w dniu 24.09.2018 roku złożył...      FNO\n",
       "3899   Klientka od momentu podpisania umowy ma cały c...      FNO\n",
       "3900   Klientka od momentu podpisania umowy ma cały c...      FNO\n",
       "4116   Klientka prosi o zwrócenie kosztów które ponio...      AKO\n",
       "4117   Klientka prosi o zwrócenie kosztów które ponio...      AKO\n",
       "4454   --   Dokument bez tytułu    GTI Sp.z o.o.  sal...      AKO\n",
       "4490   Prośba o dekretację zgodnie ze std.  Pozdr, m ...      DAT\n",
       "4491   Prośba o dekretację zgodnie ze std.  Pozdr, m ...      DAT\n",
       "...                                                  ...      ...\n",
       "25370  klient nr 503581616 - reklamuje fakt zawarcia ...      FNO\n",
       "25371  klient nr 503581616 - reklamuje fakt zawarcia ...      FNO\n",
       "25727  w systemie numer jest zdezaktywowany, natomias...      FNO\n",
       "25728  w systemie numer jest zdezaktywowany, natomias...      FNO\n",
       "25851                                                NaN      ROA\n",
       "25858                                                NaN      ZKN\n",
       "25859                                                NaN      AKO\n",
       "25860                                                NaN      AKO\n",
       "25870                                                NaN      OSA\n",
       "25872                                                NaN      THY\n",
       "25922                            reklamacja w załączniku      UPU\n",
       "26014                                                NaN      AKO\n",
       "26015                                                NaN      OSA\n",
       "26021                                                NaN      AKO\n",
       "26181  Klientka zgłasza pogorszenie jakości połączeń ...      VOI\n",
       "26182  Klientka zgłasza pogorszenie jakości połączeń ...      VOI\n",
       "26183  Klientka zgłasza pogorszenie jakości połączeń ...      VOI\n",
       "26184  Klientka zgłasza pogorszenie jakości połączeń ...      VOI\n",
       "26185  Klientka zgłasza pogorszenie jakości połączeń ...      VOI\n",
       "26186  Klientka zgłasza pogorszenie jakości połączeń ...      VOI\n",
       "26195                                                NaN      ZKN\n",
       "26233  Klientka dołączyła 2 numery do swojego konta, ...      FNO\n",
       "26234  Klientka dołączyła 2 numery do swojego konta, ...      FNO\n",
       "26359  Spisując wczoraj umowę na przeniesienie numeru...      AKO\n",
       "26360  Spisując wczoraj umowę na przeniesienie numeru...      AKO\n",
       "26361  Spisując wczoraj umowę na przeniesienie numeru...      AKO\n",
       "26603                                                NaN      ROA\n",
       "26657                                                NaN      OSA\n",
       "26660                                                NaN      THY\n",
       "26690  Uzupełnij wykropkowane miejsca:    1)\\treklama...      PTR\n",
       "\n",
       "[309 rows x 2 columns]"
      ]
     },
     "execution_count": 8,
     "metadata": {},
     "output_type": "execute_result"
    }
   ],
   "source": [
    "# find duplicates\n",
    "input_data[input_data.duplicated(keep=False)]"
   ]
  },
  {
   "cell_type": "code",
   "execution_count": 9,
   "metadata": {},
   "outputs": [],
   "source": [
    "# clearing data\n",
    "# remove duplicates\n",
    "input_data.drop_duplicates(inplace=True)\n",
    "# remove empty\n",
    "input_data=input_data.dropna()"
   ]
  },
  {
   "cell_type": "code",
   "execution_count": 10,
   "metadata": {},
   "outputs": [
    {
     "data": {
      "text/html": [
       "<div>\n",
       "<style scoped>\n",
       "    .dataframe tbody tr th:only-of-type {\n",
       "        vertical-align: middle;\n",
       "    }\n",
       "\n",
       "    .dataframe tbody tr th {\n",
       "        vertical-align: top;\n",
       "    }\n",
       "\n",
       "    .dataframe thead th {\n",
       "        text-align: right;\n",
       "    }\n",
       "</style>\n",
       "<table border=\"1\" class=\"dataframe\">\n",
       "  <thead>\n",
       "    <tr style=\"text-align: right;\">\n",
       "      <th></th>\n",
       "      <th>content</th>\n",
       "      <th>category</th>\n",
       "    </tr>\n",
       "  </thead>\n",
       "  <tbody>\n",
       "    <tr>\n",
       "      <th>0</th>\n",
       "      <td>Uzupełnij wykropkowane miejsca:    1)\\treklama...</td>\n",
       "      <td>FNO</td>\n",
       "    </tr>\n",
       "    <tr>\n",
       "      <th>1</th>\n",
       "      <td>Skarga na pracownika orange. W poniedziałek kl...</td>\n",
       "      <td>XSP</td>\n",
       "    </tr>\n",
       "    <tr>\n",
       "      <th>2</th>\n",
       "      <td>Na życzenie klientki. W imieniu Pani Anny wyst...</td>\n",
       "      <td>OSA</td>\n",
       "    </tr>\n",
       "    <tr>\n",
       "      <th>3</th>\n",
       "      <td>Doradca w czasie rozmowy z kl się rozłączył. W...</td>\n",
       "      <td>XSP</td>\n",
       "    </tr>\n",
       "    <tr>\n",
       "      <th>4</th>\n",
       "      <td>Klient zglasza skarge na doradce Łukasz Łukasz...</td>\n",
       "      <td>OSA</td>\n",
       "    </tr>\n",
       "  </tbody>\n",
       "</table>\n",
       "</div>"
      ],
      "text/plain": [
       "                                             content category\n",
       "0  Uzupełnij wykropkowane miejsca:    1)\\treklama...      FNO\n",
       "1  Skarga na pracownika orange. W poniedziałek kl...      XSP\n",
       "2  Na życzenie klientki. W imieniu Pani Anny wyst...      OSA\n",
       "3  Doradca w czasie rozmowy z kl się rozłączył. W...      XSP\n",
       "4  Klient zglasza skarge na doradce Łukasz Łukasz...      OSA"
      ]
     },
     "execution_count": 10,
     "metadata": {},
     "output_type": "execute_result"
    }
   ],
   "source": [
    "input_data.head()"
   ]
  },
  {
   "cell_type": "markdown",
   "metadata": {},
   "source": [
    "## data analysis"
   ]
  },
  {
   "cell_type": "code",
   "execution_count": 11,
   "metadata": {},
   "outputs": [
    {
     "data": {
      "text/plain": [
       "<matplotlib.axes._subplots.AxesSubplot at 0x7f1c329b32b0>"
      ]
     },
     "execution_count": 11,
     "metadata": {},
     "output_type": "execute_result"
    },
    {
     "data": {
      "image/png": "[encoded data removed]",
      "text/plain": [
       "<Figure size 432x288 with 1 Axes>"
      ]
     },
     "metadata": {
      "needs_background": "light"
     },
     "output_type": "display_data"
    }
   ],
   "source": [
    "# statystyka częstotliwości kategorii\n",
    "input_data['category'].value_counts().plot(kind='bar')"
   ]
  },
  {
   "cell_type": "code",
   "execution_count": 12,
   "metadata": {},
   "outputs": [
    {
     "data": {
      "image/png": "[encoded data removed]",
      "text/plain": [
       "<Figure size 432x288 with 1 Axes>"
      ]
     },
     "metadata": {
      "needs_background": "light"
     },
     "output_type": "display_data"
    }
   ],
   "source": [
    "# statystyka częstotliwości kategorii - skala logarytmiczna\n",
    "input_data['category'].value_counts().plot(kind='bar')\n",
    "plt.yscale('log')"
   ]
  },
  {
   "cell_type": "code",
   "execution_count": 13,
   "metadata": {},
   "outputs": [
    {
     "data": {
      "text/plain": [
       "<matplotlib.axes._subplots.AxesSubplot at 0x7f1c31e0e940>"
      ]
     },
     "execution_count": 13,
     "metadata": {},
     "output_type": "execute_result"
    },
    {
     "data": {
      "image/png": "[encoded data removed]",
      "text/plain": [
       "<Figure size 432x288 with 1 Axes>"
      ]
     },
     "metadata": {
      "needs_background": "light"
     },
     "output_type": "display_data"
    }
   ],
   "source": [
    "# statystyka długości tekstu\n",
    "input_data['content'].str.len().plot(kind='box')"
   ]
  },
  {
   "cell_type": "code",
   "execution_count": null,
   "metadata": {},
   "outputs": [],
   "source": []
  },
  {
   "cell_type": "code",
   "execution_count": null,
   "metadata": {},
   "outputs": [],
   "source": []
  },
  {
   "cell_type": "markdown",
   "metadata": {},
   "source": [
    "## preprocessing"
   ]
  },
  {
   "cell_type": "markdown",
   "metadata": {},
   "source": [
    "### preprocessing content text"
   ]
  },
  {
   "cell_type": "code",
   "execution_count": 14,
   "metadata": {},
   "outputs": [],
   "source": [
    "# Słownik synonimów / podmian\n",
    "podmiany=pd.read_excel('preproc_dict.xlsx')"
   ]
  },
  {
   "cell_type": "code",
   "execution_count": 15,
   "metadata": {},
   "outputs": [],
   "source": [
    "def preprocess_texts(raw_texts,replacements):\n",
    "    \"\"\"\n",
    "    texts: np.Series containing strings to be preprocessed\n",
    "    replacements: pairs of what convert to what\n",
    "    return np.Series with corrected texts\n",
    "    \"\"\"\n",
    "    resulttext=raw_texts.str.lower()\n",
    "    for [co,naco] in replacements.values:\n",
    "        resulttext=resulttext.str.replace(re.compile(str(co)),str(naco))\n",
    "    return resulttext\n"
   ]
  },
  {
   "cell_type": "code",
   "execution_count": 16,
   "metadata": {},
   "outputs": [],
   "source": [
    "prep_texts=preprocess_texts(input_data['content'],podmiany.iloc[:,0:2])"
   ]
  },
  {
   "cell_type": "code",
   "execution_count": 17,
   "metadata": {},
   "outputs": [
    {
     "data": {
      "text/plain": [
       "'klient składa skargę na pracownika który nie poinformował go w _number r kiedy zdecydował si ę wziąć usługę osc że jest limit _kwota na naprawę oraz że niebędzie wymiany na nowy jeśli nie da się naprawić dowiedział się teraz podczas kolejnej naprawy koszt naprawy został oszacowany na _number _kwota po przekroczeniu limitu ma dopłacić _kwota nowe urządzenie kosztuje ok _number _kwota i chciałby nie naprawiać tylko dopłacić ale dostać nowy telefon w ramach rekompensaty '"
      ]
     },
     "execution_count": 17,
     "metadata": {},
     "output_type": "execute_result"
    }
   ],
   "source": [
    "prep_texts[6]"
   ]
  },
  {
   "cell_type": "markdown",
   "metadata": {},
   "source": [
    "### preprocessing labels"
   ]
  },
  {
   "cell_type": "code",
   "execution_count": 18,
   "metadata": {},
   "outputs": [],
   "source": [
    "# labels don't need preprocessing\n",
    "prep_labels=input_data['category']"
   ]
  },
  {
   "cell_type": "markdown",
   "metadata": {},
   "source": [
    "## fasttext model creation, learning & tuning"
   ]
  },
  {
   "cell_type": "code",
   "execution_count": 19,
   "metadata": {},
   "outputs": [],
   "source": [
    "# split data to training set and validation set\n",
    "X_train,X_val,y_train,y_val=train_test_split(prep_texts.values, prep_labels.values,\n",
    "                                             test_size=0.20,random_state=1, shuffle=True)"
   ]
  },
  {
   "cell_type": "code",
   "execution_count": 20,
   "metadata": {},
   "outputs": [
    {
     "name": "stdout",
     "output_type": "stream",
     "text": [
      "X_train shape: (21440,)\n",
      "y_train shape: (21440,)\n",
      "X_val shape: (5361,)\n",
      "y_val shape: (5361,)\n"
     ]
    }
   ],
   "source": [
    "print(f'X_train shape: {X_train.shape}')\n",
    "print(f'y_train shape: {y_train.shape}')\n",
    "print(f'X_val shape: {X_val.shape}')\n",
    "print(f'y_val shape: {y_val.shape}')"
   ]
  },
  {
   "cell_type": "code",
   "execution_count": 21,
   "metadata": {},
   "outputs": [],
   "source": [
    "# prepare files for fasstext\n",
    "def prepare_fasttext_file(texts, labels, filename):\n",
    "    fasttext_set=[]\n",
    "    for i,l in enumerate(labels):\n",
    "        fasttext_set.append('__label__'+l + ' ' + texts[i])\n",
    "    pd.Series(fasttext_set).to_csv(filename,sep='\\n',index=False)\n"
   ]
  },
  {
   "cell_type": "code",
   "execution_count": 22,
   "metadata": {},
   "outputs": [],
   "source": [
    "# training & evaluation\n",
    "def train_and_evaluate(X_train, X_val, y_train, y_val, params):\n",
    "    print(f'parameters: {params}')\n",
    "    tic=time.time()\n",
    "    # prepare files for train and validation\n",
    "    prepare_fasttext_file(X_train, y_train, 'fasttext_train.txt')\n",
    "    prepare_fasttext_file(X_val, y_val, 'fasttext_val.txt')\n",
    "    # train classifier\n",
    "    classifier = fastText.train_supervised('fasttext_train.txt', **params)\n",
    "    # test classifier on training set\n",
    "    _,precision_train,recall_train=classifier.test('fasttext_train.txt')\n",
    "    f1_train=2*precision_train*recall_train/(precision_train+recall_train)\n",
    "    # test classifier on validation set\n",
    "    _,precision_val,recall_val=classifier.test('fasttext_val.txt')\n",
    "    f1_val=2*precision_val*recall_val/(precision_val+recall_val)\n",
    "    toc=time.time()\n",
    "    print(f'Results on validation set: precision={precision_val:.2}, recall={recall_val:.2}, f1={f1_val:.2}. Calcutated in {int(toc-tic)} seconds.')\n",
    "    return f1_train, f1_val\n",
    "    "
   ]
  },
  {
   "cell_type": "code",
   "execution_count": 67,
   "metadata": {},
   "outputs": [
    {
     "name": "stdout",
     "output_type": "stream",
     "text": [
      "parameters: {'epoch': 50, 'dim': 50, 'minCount': 4, 'wordNgrams': 5, 'lr': 0.5, 'ws': 5}\n",
      "Results on validation set: precision=0.49, recall=0.49, f1=0.49. Calcutated in 48 seconds.\n"
     ]
    },
    {
     "data": {
      "text/plain": [
       "(0.996268656716418, 0.48666293601939936)"
      ]
     },
     "execution_count": 67,
     "metadata": {},
     "output_type": "execute_result"
    }
   ],
   "source": [
    "train_and_evaluate(X_train, X_val, y_train, y_val, {'epoch':50, 'dim':50, 'minCount':4, 'wordNgrams':5, \n",
    "                                                    'lr':0.5, 'ws':5})"
   ]
  },
  {
   "cell_type": "code",
   "execution_count": 24,
   "metadata": {},
   "outputs": [],
   "source": [
    "def hyperparameters_grid_search():\n",
    "    # search space\n",
    "    param_grid = dict(\n",
    "        epoch=[30,50,100],\n",
    "        dim=[25,35,50,70,100],\n",
    "        wordNgrams=[1,2,3],\n",
    "        neg=[5,10,20],\n",
    "        lr=[0.2,0.5,1],\n",
    "        minCount=[1,3,6,10,20]\n",
    "    )\n",
    "    param_list=list(param_grid.keys())\n",
    "    metrics_list=['f1 train','f1 val','f1 diff']\n",
    "    logging_list=param_list+metrics_list\n",
    "    \n",
    "    # number of random choices to try\n",
    "    iterations=100\n",
    "    \n",
    "    # results list\n",
    "    results=[]\n",
    "    \n",
    "    # iterate checking model performace with random hyperparameters\n",
    "    # catch KeyboardInterrupt exception to be able to break the loop\n",
    "    try:\n",
    "        for i in range(iterations):\n",
    "            print(f'iteration {i+1} of {iterations}')\n",
    "            # randomly select parameters\n",
    "            param = dict()\n",
    "            for key in param_grid:\n",
    "                param[key] = np.random.choice(param_grid[key])\n",
    "            # print(f'selected params:{param}')\n",
    "            # train & evaluate the model\n",
    "            f1_train, f1_val = train_and_evaluate(X_train, X_val, y_train, y_val, param)\n",
    "            param['f1 train']=f1_train\n",
    "            param['f1 val']=f1_val\n",
    "            param['f1 diff']=f1_train-f1_val\n",
    "            logging_list\n",
    "            # log results\n",
    "            result_line=[]\n",
    "            # log parameters\n",
    "            for key in logging_list:\n",
    "                result_line.append(param[key])\n",
    "            results.append(result_line)\n",
    "    except(KeyboardInterrupt):\n",
    "        pass\n",
    "    # save results to file\n",
    "    result_df=pd.DataFrame(results, columns=logging_list)\n",
    "    result_df.sort_values(by='f1 val', ascending=False, inplace=True) # sort entries starting from best f1 on validation set\n",
    "    result_df.to_excel('hyperparameter_search.xlsx', index=False)"
   ]
  },
  {
   "cell_type": "code",
   "execution_count": 25,
   "metadata": {},
   "outputs": [
    {
     "name": "stdout",
     "output_type": "stream",
     "text": [
      "iteration 1 of 100\n",
      "parameters: {'epoch': 50, 'dim': 35, 'wordNgrams': 1, 'neg': 5, 'lr': 0.5, 'minCount': 3}\n",
      "Results on validation set: precision=0.43, recall=0.43, f1=0.43. Calcutated in 12 seconds.\n",
      "iteration 2 of 100\n",
      "parameters: {'epoch': 50, 'dim': 25, 'wordNgrams': 2, 'neg': 10, 'lr': 0.5, 'minCount': 10}\n",
      "Results on validation set: precision=0.47, recall=0.47, f1=0.47. Calcutated in 16 seconds.\n",
      "iteration 3 of 100\n",
      "parameters: {'epoch': 50, 'dim': 35, 'wordNgrams': 2, 'neg': 10, 'lr': 0.5, 'minCount': 3}\n",
      "Results on validation set: precision=0.47, recall=0.47, f1=0.47. Calcutated in 20 seconds.\n",
      "iteration 4 of 100\n",
      "parameters: {'epoch': 50, 'dim': 70, 'wordNgrams': 1, 'neg': 20, 'lr': 0.5, 'minCount': 6}\n",
      "Results on validation set: precision=0.43, recall=0.43, f1=0.43. Calcutated in 18 seconds.\n",
      "iteration 5 of 100\n",
      "parameters: {'epoch': 30, 'dim': 50, 'wordNgrams': 3, 'neg': 5, 'lr': 0.5, 'minCount': 10}\n",
      "Results on validation set: precision=0.48, recall=0.48, f1=0.48. Calcutated in 19 seconds.\n",
      "iteration 6 of 100\n",
      "parameters: {'epoch': 50, 'dim': 25, 'wordNgrams': 3, 'neg': 20, 'lr': 0.5, 'minCount': 10}\n",
      "Results on validation set: precision=0.48, recall=0.48, f1=0.48. Calcutated in 19 seconds.\n",
      "iteration 7 of 100\n",
      "parameters: {'epoch': 100, 'dim': 25, 'wordNgrams': 2, 'neg': 5, 'lr': 0.5, 'minCount': 3}\n",
      "Results on validation set: precision=0.47, recall=0.47, f1=0.47. Calcutated in 28 seconds.\n",
      "iteration 8 of 100\n",
      "parameters: {'epoch': 30, 'dim': 70, 'wordNgrams': 1, 'neg': 10, 'lr': 0.5, 'minCount': 20}\n",
      "Results on validation set: precision=0.44, recall=0.44, f1=0.44. Calcutated in 12 seconds.\n",
      "iteration 9 of 100\n",
      "parameters: {'epoch': 100, 'dim': 100, 'wordNgrams': 3, 'neg': 10, 'lr': 1.0, 'minCount': 20}\n",
      "Results on validation set: precision=0.48, recall=0.48, f1=0.48. Calcutated in 94 seconds.\n",
      "iteration 10 of 100\n",
      "parameters: {'epoch': 30, 'dim': 35, 'wordNgrams': 3, 'neg': 10, 'lr': 1.0, 'minCount': 10}\n",
      "Results on validation set: precision=0.48, recall=0.48, f1=0.48. Calcutated in 15 seconds.\n",
      "iteration 11 of 100\n",
      "parameters: {'epoch': 30, 'dim': 100, 'wordNgrams': 2, 'neg': 5, 'lr': 1.0, 'minCount': 3}\n",
      "Results on validation set: precision=0.47, recall=0.47, f1=0.47. Calcutated in 25 seconds.\n",
      "iteration 12 of 100\n",
      "parameters: {'epoch': 100, 'dim': 35, 'wordNgrams': 1, 'neg': 20, 'lr': 0.2, 'minCount': 6}\n",
      "Results on validation set: precision=0.42, recall=0.42, f1=0.42. Calcutated in 22 seconds.\n",
      "iteration 13 of 100\n",
      "parameters: {'epoch': 100, 'dim': 35, 'wordNgrams': 2, 'neg': 20, 'lr': 1.0, 'minCount': 20}\n",
      "Results on validation set: precision=0.47, recall=0.47, f1=0.47. Calcutated in 39 seconds.\n",
      "iteration 14 of 100\n",
      "parameters: {'epoch': 30, 'dim': 25, 'wordNgrams': 1, 'neg': 20, 'lr': 0.2, 'minCount': 10}\n",
      "Results on validation set: precision=0.45, recall=0.45, f1=0.45. Calcutated in 6 seconds.\n",
      "iteration 15 of 100\n",
      "parameters: {'epoch': 50, 'dim': 100, 'wordNgrams': 3, 'neg': 10, 'lr': 1.0, 'minCount': 10}\n",
      "Results on validation set: precision=0.48, recall=0.48, f1=0.48. Calcutated in 47 seconds.\n",
      "iteration 16 of 100\n",
      "parameters: {'epoch': 100, 'dim': 35, 'wordNgrams': 1, 'neg': 10, 'lr': 0.2, 'minCount': 1}\n",
      "Results on validation set: precision=0.44, recall=0.44, f1=0.44. Calcutated in 23 seconds.\n",
      "iteration 17 of 100\n",
      "parameters: {'epoch': 100, 'dim': 50, 'wordNgrams': 3, 'neg': 20, 'lr': 0.5, 'minCount': 20}\n",
      "Results on validation set: precision=0.48, recall=0.48, f1=0.48. Calcutated in 56 seconds.\n",
      "iteration 18 of 100\n",
      "parameters: {'epoch': 30, 'dim': 25, 'wordNgrams': 2, 'neg': 5, 'lr': 0.5, 'minCount': 10}\n",
      "Results on validation set: precision=0.47, recall=0.47, f1=0.47. Calcutated in 9 seconds.\n",
      "iteration 19 of 100\n",
      "parameters: {'epoch': 100, 'dim': 70, 'wordNgrams': 1, 'neg': 10, 'lr': 1.0, 'minCount': 3}\n",
      "Results on validation set: precision=0.42, recall=0.42, f1=0.42. Calcutated in 35 seconds.\n",
      "iteration 20 of 100\n",
      "parameters: {'epoch': 100, 'dim': 70, 'wordNgrams': 2, 'neg': 10, 'lr': 0.2, 'minCount': 10}\n",
      "Results on validation set: precision=0.47, recall=0.47, f1=0.47. Calcutated in 53 seconds.\n",
      "iteration 21 of 100\n",
      "parameters: {'epoch': 50, 'dim': 70, 'wordNgrams': 3, 'neg': 10, 'lr': 0.2, 'minCount': 20}\n",
      "Results on validation set: precision=0.47, recall=0.47, f1=0.47. Calcutated in 36 seconds.\n",
      "iteration 22 of 100\n",
      "parameters: {'epoch': 30, 'dim': 50, 'wordNgrams': 2, 'neg': 20, 'lr': 1.0, 'minCount': 6}\n",
      "Results on validation set: precision=0.47, recall=0.47, f1=0.47. Calcutated in 15 seconds.\n",
      "iteration 23 of 100\n",
      "parameters: {'epoch': 50, 'dim': 100, 'wordNgrams': 1, 'neg': 5, 'lr': 1.0, 'minCount': 3}\n",
      "Results on validation set: precision=0.42, recall=0.42, f1=0.42. Calcutated in 24 seconds.\n",
      "iteration 24 of 100\n",
      "parameters: {'epoch': 100, 'dim': 70, 'wordNgrams': 3, 'neg': 10, 'lr': 0.2, 'minCount': 6}\n",
      "Results on validation set: precision=0.48, recall=0.48, f1=0.48. Calcutated in 69 seconds.\n",
      "iteration 25 of 100\n",
      "parameters: {'epoch': 100, 'dim': 50, 'wordNgrams': 1, 'neg': 5, 'lr': 0.5, 'minCount': 3}\n",
      "Results on validation set: precision=0.42, recall=0.42, f1=0.42. Calcutated in 28 seconds.\n",
      "iteration 26 of 100\n",
      "parameters: {'epoch': 30, 'dim': 35, 'wordNgrams': 2, 'neg': 10, 'lr': 1.0, 'minCount': 10}\n",
      "Results on validation set: precision=0.47, recall=0.47, f1=0.47. Calcutated in 12 seconds.\n",
      "iteration 27 of 100\n",
      "parameters: {'epoch': 100, 'dim': 70, 'wordNgrams': 2, 'neg': 20, 'lr': 0.5, 'minCount': 1}\n",
      "Results on validation set: precision=0.47, recall=0.47, f1=0.47. Calcutated in 53 seconds.\n",
      "iteration 28 of 100\n",
      "parameters: {'epoch': 100, 'dim': 35, 'wordNgrams': 3, 'neg': 5, 'lr': 0.5, 'minCount': 10}\n",
      "Results on validation set: precision=0.48, recall=0.48, f1=0.48. Calcutated in 46 seconds.\n",
      "iteration 29 of 100\n",
      "parameters: {'epoch': 50, 'dim': 50, 'wordNgrams': 1, 'neg': 20, 'lr': 0.2, 'minCount': 10}\n",
      "Results on validation set: precision=0.44, recall=0.44, f1=0.44. Calcutated in 14 seconds.\n",
      "iteration 30 of 100\n",
      "parameters: {'epoch': 50, 'dim': 35, 'wordNgrams': 1, 'neg': 20, 'lr': 0.2, 'minCount': 6}\n",
      "Results on validation set: precision=0.44, recall=0.44, f1=0.44. Calcutated in 12 seconds.\n",
      "iteration 31 of 100\n",
      "parameters: {'epoch': 30, 'dim': 100, 'wordNgrams': 2, 'neg': 5, 'lr': 0.5, 'minCount': 10}\n",
      "Results on validation set: precision=0.47, recall=0.47, f1=0.47. Calcutated in 23 seconds.\n",
      "iteration 32 of 100\n",
      "parameters: {'epoch': 100, 'dim': 70, 'wordNgrams': 2, 'neg': 5, 'lr': 0.5, 'minCount': 10}\n",
      "Results on validation set: precision=0.47, recall=0.47, f1=0.47. Calcutated in 54 seconds.\n",
      "iteration 33 of 100\n",
      "parameters: {'epoch': 100, 'dim': 100, 'wordNgrams': 3, 'neg': 5, 'lr': 1.0, 'minCount': 6}\n",
      "Results on validation set: precision=0.48, recall=0.48, f1=0.48. Calcutated in 89 seconds.\n",
      "iteration 34 of 100\n",
      "parameters: {'epoch': 100, 'dim': 35, 'wordNgrams': 2, 'neg': 5, 'lr': 0.5, 'minCount': 10}\n",
      "Results on validation set: precision=0.47, recall=0.47, f1=0.47. Calcutated in 34 seconds.\n",
      "iteration 35 of 100\n",
      "parameters: {'epoch': 30, 'dim': 70, 'wordNgrams': 3, 'neg': 10, 'lr': 1.0, 'minCount': 10}\n",
      "Results on validation set: precision=0.48, recall=0.48, f1=0.48. Calcutated in 24 seconds.\n",
      "iteration 36 of 100\n",
      "parameters: {'epoch': 100, 'dim': 100, 'wordNgrams': 3, 'neg': 5, 'lr': 0.5, 'minCount': 1}\n",
      "Results on validation set: precision=0.48, recall=0.48, f1=0.48. Calcutated in 91 seconds.\n",
      "iteration 37 of 100\n",
      "parameters: {'epoch': 50, 'dim': 70, 'wordNgrams': 3, 'neg': 20, 'lr': 1.0, 'minCount': 6}\n",
      "Results on validation set: precision=0.48, recall=0.48, f1=0.48. Calcutated in 37 seconds.\n",
      "iteration 38 of 100\n",
      "parameters: {'epoch': 100, 'dim': 25, 'wordNgrams': 1, 'neg': 10, 'lr': 0.2, 'minCount': 20}\n",
      "Results on validation set: precision=0.41, recall=0.41, f1=0.41. Calcutated in 18 seconds.\n",
      "iteration 39 of 100\n",
      "parameters: {'epoch': 100, 'dim': 35, 'wordNgrams': 3, 'neg': 10, 'lr': 1.0, 'minCount': 1}\n",
      "Results on validation set: precision=0.48, recall=0.48, f1=0.48. Calcutated in 47 seconds.\n",
      "iteration 40 of 100\n",
      "parameters: {'epoch': 50, 'dim': 25, 'wordNgrams': 1, 'neg': 20, 'lr': 0.5, 'minCount': 6}\n",
      "Results on validation set: precision=0.43, recall=0.43, f1=0.43. Calcutated in 9 seconds.\n",
      "iteration 41 of 100\n",
      "parameters: {'epoch': 100, 'dim': 25, 'wordNgrams': 1, 'neg': 10, 'lr': 0.5, 'minCount': 1}\n"
     ]
    },
    {
     "name": "stdout",
     "output_type": "stream",
     "text": [
      "Results on validation set: precision=0.43, recall=0.43, f1=0.43. Calcutated in 19 seconds.\n",
      "iteration 42 of 100\n",
      "parameters: {'epoch': 50, 'dim': 25, 'wordNgrams': 3, 'neg': 20, 'lr': 1.0, 'minCount': 20}\n",
      "Results on validation set: precision=0.48, recall=0.48, f1=0.48. Calcutated in 19 seconds.\n",
      "iteration 43 of 100\n",
      "parameters: {'epoch': 50, 'dim': 100, 'wordNgrams': 1, 'neg': 5, 'lr': 0.2, 'minCount': 3}\n",
      "Results on validation set: precision=0.44, recall=0.44, f1=0.44. Calcutated in 22 seconds.\n",
      "iteration 44 of 100\n",
      "parameters: {'epoch': 100, 'dim': 70, 'wordNgrams': 3, 'neg': 20, 'lr': 0.2, 'minCount': 10}\n",
      "Results on validation set: precision=0.48, recall=0.48, f1=0.48. Calcutated in 69 seconds.\n",
      "iteration 45 of 100\n",
      "parameters: {'epoch': 100, 'dim': 100, 'wordNgrams': 2, 'neg': 5, 'lr': 1.0, 'minCount': 6}\n",
      "Results on validation set: precision=0.47, recall=0.47, f1=0.47. Calcutated in 68 seconds.\n",
      "iteration 46 of 100\n",
      "parameters: {'epoch': 50, 'dim': 100, 'wordNgrams': 1, 'neg': 20, 'lr': 0.5, 'minCount': 10}\n",
      "Results on validation set: precision=0.43, recall=0.43, f1=0.43. Calcutated in 22 seconds.\n",
      "iteration 47 of 100\n",
      "parameters: {'epoch': 30, 'dim': 35, 'wordNgrams': 2, 'neg': 20, 'lr': 0.5, 'minCount': 1}\n",
      "Results on validation set: precision=0.47, recall=0.47, f1=0.47. Calcutated in 12 seconds.\n",
      "iteration 48 of 100\n",
      "parameters: {'epoch': 30, 'dim': 100, 'wordNgrams': 1, 'neg': 5, 'lr': 0.5, 'minCount': 6}\n",
      "Results on validation set: precision=0.45, recall=0.45, f1=0.45. Calcutated in 13 seconds.\n",
      "iteration 49 of 100\n",
      "parameters: {'epoch': 30, 'dim': 35, 'wordNgrams': 2, 'neg': 10, 'lr': 0.5, 'minCount': 1}\n",
      "Results on validation set: precision=0.47, recall=0.47, f1=0.47. Calcutated in 12 seconds.\n",
      "iteration 50 of 100\n",
      "parameters: {'epoch': 30, 'dim': 70, 'wordNgrams': 2, 'neg': 10, 'lr': 0.2, 'minCount': 10}\n",
      "Results on validation set: precision=0.47, recall=0.47, f1=0.47. Calcutated in 18 seconds.\n",
      "iteration 51 of 100\n",
      "parameters: {'epoch': 100, 'dim': 100, 'wordNgrams': 1, 'neg': 5, 'lr': 0.5, 'minCount': 3}\n",
      "Results on validation set: precision=0.41, recall=0.41, f1=0.41. Calcutated in 45 seconds.\n",
      "iteration 52 of 100\n",
      "parameters: {'epoch': 50, 'dim': 70, 'wordNgrams': 3, 'neg': 10, 'lr': 0.5, 'minCount': 6}\n",
      "Results on validation set: precision=0.49, recall=0.49, f1=0.49. Calcutated in 40 seconds.\n",
      "iteration 53 of 100\n",
      "parameters: {'epoch': 50, 'dim': 35, 'wordNgrams': 3, 'neg': 20, 'lr': 1.0, 'minCount': 3}\n",
      "Results on validation set: precision=0.48, recall=0.48, f1=0.48. Calcutated in 28 seconds.\n",
      "iteration 54 of 100\n",
      "parameters: {'epoch': 50, 'dim': 50, 'wordNgrams': 1, 'neg': 10, 'lr': 0.5, 'minCount': 20}\n",
      "Results on validation set: precision=0.43, recall=0.43, f1=0.43. Calcutated in 14 seconds.\n",
      "iteration 55 of 100\n",
      "parameters: {'epoch': 50, 'dim': 50, 'wordNgrams': 1, 'neg': 20, 'lr': 1.0, 'minCount': 6}\n",
      "Results on validation set: precision=0.43, recall=0.43, f1=0.43. Calcutated in 14 seconds.\n",
      "iteration 56 of 100\n",
      "parameters: {'epoch': 100, 'dim': 100, 'wordNgrams': 1, 'neg': 5, 'lr': 1.0, 'minCount': 20}\n",
      "Results on validation set: precision=0.41, recall=0.41, f1=0.41. Calcutated in 43 seconds.\n",
      "iteration 57 of 100\n",
      "parameters: {'epoch': 50, 'dim': 50, 'wordNgrams': 3, 'neg': 5, 'lr': 1.0, 'minCount': 3}\n",
      "Results on validation set: precision=0.48, recall=0.48, f1=0.48. Calcutated in 33 seconds.\n",
      "iteration 58 of 100\n",
      "parameters: {'epoch': 100, 'dim': 70, 'wordNgrams': 3, 'neg': 10, 'lr': 0.5, 'minCount': 10}\n",
      "Results on validation set: precision=0.48, recall=0.48, f1=0.48. Calcutated in 70 seconds.\n",
      "iteration 59 of 100\n",
      "parameters: {'epoch': 100, 'dim': 35, 'wordNgrams': 3, 'neg': 20, 'lr': 1.0, 'minCount': 6}\n",
      "Results on validation set: precision=0.48, recall=0.48, f1=0.48. Calcutated in 46 seconds.\n",
      "iteration 60 of 100\n",
      "parameters: {'epoch': 50, 'dim': 100, 'wordNgrams': 1, 'neg': 10, 'lr': 0.5, 'minCount': 10}\n",
      "Results on validation set: precision=0.43, recall=0.43, f1=0.43. Calcutated in 22 seconds.\n",
      "iteration 61 of 100\n",
      "parameters: {'epoch': 30, 'dim': 35, 'wordNgrams': 2, 'neg': 5, 'lr': 0.2, 'minCount': 10}\n",
      "Results on validation set: precision=0.47, recall=0.47, f1=0.47. Calcutated in 12 seconds.\n",
      "iteration 62 of 100\n",
      "parameters: {'epoch': 30, 'dim': 50, 'wordNgrams': 1, 'neg': 10, 'lr': 0.2, 'minCount': 10}\n",
      "Results on validation set: precision=0.46, recall=0.46, f1=0.46. Calcutated in 9 seconds.\n",
      "iteration 63 of 100\n",
      "parameters: {'epoch': 30, 'dim': 70, 'wordNgrams': 1, 'neg': 20, 'lr': 0.2, 'minCount': 1}\n",
      "Results on validation set: precision=0.45, recall=0.45, f1=0.45. Calcutated in 11 seconds.\n",
      "iteration 64 of 100\n",
      "parameters: {'epoch': 50, 'dim': 100, 'wordNgrams': 1, 'neg': 20, 'lr': 0.5, 'minCount': 10}\n",
      "Results on validation set: precision=0.43, recall=0.43, f1=0.43. Calcutated in 22 seconds.\n",
      "iteration 65 of 100\n",
      "parameters: {'epoch': 30, 'dim': 100, 'wordNgrams': 2, 'neg': 20, 'lr': 1.0, 'minCount': 1}\n",
      "Results on validation set: precision=0.47, recall=0.47, f1=0.47. Calcutated in 24 seconds.\n",
      "iteration 66 of 100\n",
      "parameters: {'epoch': 50, 'dim': 35, 'wordNgrams': 3, 'neg': 20, 'lr': 0.2, 'minCount': 6}\n",
      "Results on validation set: precision=0.48, recall=0.48, f1=0.48. Calcutated in 25 seconds.\n",
      "iteration 67 of 100\n",
      "parameters: {'epoch': 50, 'dim': 70, 'wordNgrams': 1, 'neg': 5, 'lr': 1.0, 'minCount': 1}\n",
      "Results on validation set: precision=0.44, recall=0.44, f1=0.44. Calcutated in 17 seconds.\n",
      "iteration 68 of 100\n",
      "parameters: {'epoch': 100, 'dim': 100, 'wordNgrams': 1, 'neg': 10, 'lr': 0.5, 'minCount': 6}\n",
      "Results on validation set: precision=0.41, recall=0.41, f1=0.41. Calcutated in 50 seconds.\n",
      "iteration 69 of 100\n",
      "parameters: {'epoch': 100, 'dim': 35, 'wordNgrams': 2, 'neg': 10, 'lr': 0.5, 'minCount': 10}\n",
      "Results on validation set: precision=0.47, recall=0.47, f1=0.47. Calcutated in 36 seconds.\n",
      "iteration 70 of 100\n",
      "parameters: {'epoch': 100, 'dim': 50, 'wordNgrams': 3, 'neg': 20, 'lr': 0.5, 'minCount': 10}\n",
      "Results on validation set: precision=0.48, recall=0.48, f1=0.48. Calcutated in 58 seconds.\n",
      "iteration 71 of 100\n",
      "parameters: {'epoch': 30, 'dim': 70, 'wordNgrams': 3, 'neg': 10, 'lr': 0.5, 'minCount': 20}\n",
      "Results on validation set: precision=0.48, recall=0.48, f1=0.48. Calcutated in 29 seconds.\n",
      "iteration 72 of 100\n",
      "parameters: {'epoch': 100, 'dim': 70, 'wordNgrams': 1, 'neg': 20, 'lr': 0.5, 'minCount': 3}\n",
      "Results on validation set: precision=0.42, recall=0.42, f1=0.42. Calcutated in 34 seconds.\n",
      "iteration 73 of 100\n",
      "parameters: {'epoch': 100, 'dim': 35, 'wordNgrams': 1, 'neg': 5, 'lr': 0.2, 'minCount': 20}\n",
      "Results on validation set: precision=0.41, recall=0.41, f1=0.41. Calcutated in 23 seconds.\n",
      "iteration 74 of 100\n",
      "parameters: {'epoch': 100, 'dim': 35, 'wordNgrams': 3, 'neg': 10, 'lr': 0.5, 'minCount': 20}\n",
      "Results on validation set: precision=0.48, recall=0.48, f1=0.48. Calcutated in 46 seconds.\n",
      "iteration 75 of 100\n",
      "parameters: {'epoch': 30, 'dim': 70, 'wordNgrams': 3, 'neg': 10, 'lr': 1.0, 'minCount': 1}\n",
      "Results on validation set: precision=0.48, recall=0.48, f1=0.48. Calcutated in 23 seconds.\n",
      "iteration 76 of 100\n",
      "parameters: {'epoch': 30, 'dim': 35, 'wordNgrams': 3, 'neg': 5, 'lr': 1.0, 'minCount': 10}\n",
      "Results on validation set: precision=0.48, recall=0.48, f1=0.48. Calcutated in 15 seconds.\n",
      "iteration 77 of 100\n",
      "parameters: {'epoch': 100, 'dim': 50, 'wordNgrams': 1, 'neg': 20, 'lr': 1.0, 'minCount': 3}\n",
      "Results on validation set: precision=0.42, recall=0.42, f1=0.42. Calcutated in 28 seconds.\n",
      "iteration 78 of 100\n",
      "parameters: {'epoch': 30, 'dim': 35, 'wordNgrams': 2, 'neg': 10, 'lr': 0.2, 'minCount': 3}\n",
      "Results on validation set: precision=0.47, recall=0.47, f1=0.47. Calcutated in 12 seconds.\n",
      "iteration 79 of 100\n",
      "parameters: {'epoch': 30, 'dim': 100, 'wordNgrams': 3, 'neg': 5, 'lr': 0.5, 'minCount': 10}\n",
      "Results on validation set: precision=0.48, recall=0.48, f1=0.48. Calcutated in 34 seconds.\n",
      "iteration 80 of 100\n",
      "parameters: {'epoch': 30, 'dim': 70, 'wordNgrams': 1, 'neg': 5, 'lr': 0.2, 'minCount': 10}\n",
      "Results on validation set: precision=0.45, recall=0.45, f1=0.45. Calcutated in 10 seconds.\n",
      "iteration 81 of 100\n",
      "parameters: {'epoch': 50, 'dim': 100, 'wordNgrams': 3, 'neg': 5, 'lr': 0.2, 'minCount': 10}\n",
      "Results on validation set: precision=0.48, recall=0.48, f1=0.48. Calcutated in 47 seconds.\n",
      "iteration 82 of 100\n",
      "parameters: {'epoch': 100, 'dim': 50, 'wordNgrams': 2, 'neg': 20, 'lr': 0.2, 'minCount': 6}\n"
     ]
    },
    {
     "name": "stdout",
     "output_type": "stream",
     "text": [
      "Results on validation set: precision=0.47, recall=0.47, f1=0.47. Calcutated in 42 seconds.\n",
      "iteration 83 of 100\n",
      "parameters: {'epoch': 100, 'dim': 50, 'wordNgrams': 3, 'neg': 20, 'lr': 1.0, 'minCount': 3}\n",
      "Results on validation set: precision=0.48, recall=0.48, f1=0.48. Calcutated in 56 seconds.\n",
      "iteration 84 of 100\n",
      "parameters: {'epoch': 30, 'dim': 100, 'wordNgrams': 1, 'neg': 5, 'lr': 0.2, 'minCount': 6}\n",
      "Results on validation set: precision=0.45, recall=0.45, f1=0.45. Calcutated in 14 seconds.\n",
      "iteration 85 of 100\n",
      "parameters: {'epoch': 100, 'dim': 100, 'wordNgrams': 1, 'neg': 10, 'lr': 0.2, 'minCount': 1}\n",
      "Results on validation set: precision=0.43, recall=0.43, f1=0.43. Calcutated in 49 seconds.\n",
      "iteration 86 of 100\n",
      "parameters: {'epoch': 100, 'dim': 70, 'wordNgrams': 3, 'neg': 20, 'lr': 0.2, 'minCount': 6}\n",
      "Results on validation set: precision=0.48, recall=0.48, f1=0.48. Calcutated in 74 seconds.\n",
      "iteration 87 of 100\n",
      "parameters: {'epoch': 50, 'dim': 35, 'wordNgrams': 3, 'neg': 20, 'lr': 0.2, 'minCount': 10}\n",
      "Results on validation set: precision=0.48, recall=0.48, f1=0.48. Calcutated in 33 seconds.\n",
      "iteration 88 of 100\n",
      "parameters: {'epoch': 30, 'dim': 70, 'wordNgrams': 1, 'neg': 10, 'lr': 0.5, 'minCount': 1}\n",
      "Results on validation set: precision=0.45, recall=0.45, f1=0.45. Calcutated in 13 seconds.\n",
      "iteration 89 of 100\n",
      "parameters: {'epoch': 100, 'dim': 100, 'wordNgrams': 1, 'neg': 5, 'lr': 0.5, 'minCount': 20}\n",
      "Results on validation set: precision=0.41, recall=0.41, f1=0.41. Calcutated in 45 seconds.\n",
      "iteration 90 of 100\n",
      "parameters: {'epoch': 30, 'dim': 100, 'wordNgrams': 1, 'neg': 20, 'lr': 0.2, 'minCount': 1}\n",
      "Results on validation set: precision=0.45, recall=0.45, f1=0.45. Calcutated in 15 seconds.\n",
      "iteration 91 of 100\n",
      "parameters: {'epoch': 100, 'dim': 25, 'wordNgrams': 1, 'neg': 10, 'lr': 1.0, 'minCount': 6}\n",
      "Results on validation set: precision=0.42, recall=0.42, f1=0.42. Calcutated in 20 seconds.\n",
      "iteration 92 of 100\n",
      "parameters: {'epoch': 50, 'dim': 70, 'wordNgrams': 3, 'neg': 5, 'lr': 1.0, 'minCount': 10}\n",
      "Results on validation set: precision=0.48, recall=0.48, f1=0.48. Calcutated in 40 seconds.\n",
      "iteration 93 of 100\n",
      "parameters: {'epoch': 100, 'dim': 50, 'wordNgrams': 2, 'neg': 20, 'lr': 0.5, 'minCount': 1}\n",
      "Results on validation set: precision=0.48, recall=0.48, f1=0.48. Calcutated in 47 seconds.\n",
      "iteration 94 of 100\n",
      "parameters: {'epoch': 50, 'dim': 70, 'wordNgrams': 1, 'neg': 20, 'lr': 0.5, 'minCount': 10}\n",
      "Results on validation set: precision=0.43, recall=0.43, f1=0.43. Calcutated in 20 seconds.\n",
      "iteration 95 of 100\n",
      "parameters: {'epoch': 30, 'dim': 100, 'wordNgrams': 2, 'neg': 10, 'lr': 0.2, 'minCount': 6}\n",
      "Results on validation set: precision=0.47, recall=0.47, f1=0.47. Calcutated in 27 seconds.\n",
      "iteration 96 of 100\n",
      "parameters: {'epoch': 50, 'dim': 25, 'wordNgrams': 1, 'neg': 20, 'lr': 0.5, 'minCount': 20}\n",
      "Results on validation set: precision=0.42, recall=0.42, f1=0.42. Calcutated in 10 seconds.\n",
      "iteration 97 of 100\n",
      "parameters: {'epoch': 100, 'dim': 50, 'wordNgrams': 2, 'neg': 20, 'lr': 1.0, 'minCount': 1}\n"
     ]
    }
   ],
   "source": [
    "hyperparameters_grid_search()"
   ]
  },
  {
   "cell_type": "markdown",
   "metadata": {},
   "source": [
    "## final model training"
   ]
  },
  {
   "cell_type": "code",
   "execution_count": 26,
   "metadata": {},
   "outputs": [],
   "source": [
    "# training\n",
    "best_params = {'epoch':50, 'dim':35, 'wordNgrams':3, 'lr':0.5}\n",
    "prepare_fasttext_file(X_train, y_train, 'fasttext_final_train.txt')\n",
    "prepare_fasttext_file(X_val, y_val, 'fasttext_final_val.txt')\n",
    "\n",
    "classifier = fastText.train_supervised('fasttext_final_train.txt', **best_params)"
   ]
  },
  {
   "cell_type": "code",
   "execution_count": 27,
   "metadata": {},
   "outputs": [
    {
     "name": "stdout",
     "output_type": "stream",
     "text": [
      "Final model: precision=0.48, recall=0.48, f1=0.48\n"
     ]
    }
   ],
   "source": [
    "supp,precision,recall=classifier.test('fasttext_final_val.txt')\n",
    "f1=2*precision*recall/(precision+recall)\n",
    "print(f'Final model: precision={precision:.2}, recall={recall:.2}, f1={f1:.2}')"
   ]
  },
  {
   "cell_type": "code",
   "execution_count": 28,
   "metadata": {},
   "outputs": [],
   "source": [
    "# save finam model to file\n",
    "classifier.save_model('model.bin')\n",
    "# use predict.py for predictions"
   ]
  },
  {
   "cell_type": "markdown",
   "metadata": {},
   "source": [
    "### predict, calculate metrics & present results"
   ]
  },
  {
   "cell_type": "code",
   "execution_count": 29,
   "metadata": {},
   "outputs": [],
   "source": [
    "# print('loading model...')\n",
    "# classifier = fastText.load_model(os.path.join(datapath, 'model.bin'))"
   ]
  },
  {
   "cell_type": "code",
   "execution_count": 30,
   "metadata": {},
   "outputs": [],
   "source": [
    "# predict labels for texts using given classifier\n",
    "def make_predictions(clf, texts):\n",
    "    predictions = []\n",
    "    for t in texts:\n",
    "        # predict function returns tuple with list of labels and list of probabilities\n",
    "        labels, probs = clf.predict(t, k=1)\n",
    "        l=labels[0].replace('__label__', '')\n",
    "        predictions.append(l)\n",
    "    return predictions\n"
   ]
  },
  {
   "cell_type": "markdown",
   "metadata": {},
   "source": [
    "#### calculate on training set"
   ]
  },
  {
   "cell_type": "code",
   "execution_count": 31,
   "metadata": {},
   "outputs": [],
   "source": [
    "# useful lists for presentation\n",
    "label_freq=input_data['category'].value_counts(normalize=True)\n",
    "label_list=list(label_freq.index)"
   ]
  },
  {
   "cell_type": "code",
   "execution_count": 32,
   "metadata": {},
   "outputs": [],
   "source": [
    "y_pred = make_predictions(classifier, X_train)"
   ]
  },
  {
   "cell_type": "code",
   "execution_count": 33,
   "metadata": {},
   "outputs": [
    {
     "name": "stdout",
     "output_type": "stream",
     "text": [
      "              precision    recall  f1-score   support\n",
      "\n",
      "         FNO       1.00      1.00      1.00      6680\n",
      "         AKO       0.99      0.99      0.99      2391\n",
      "         UPU       1.00      1.00      1.00      2262\n",
      "         ZKN       0.99      0.99      0.99      1980\n",
      "         ODW       1.00      0.99      1.00       851\n",
      "         DAT       1.00      1.00      1.00       849\n",
      "         OSA       1.00      1.00      1.00       774\n",
      "         VOI       0.99      1.00      1.00       652\n",
      "         DKR       1.00      0.99      1.00       663\n",
      "         ZIN       1.00      1.00      1.00       546\n",
      "         ROA       1.00      1.00      1.00       522\n",
      "         DOL       1.00      1.00      1.00       409\n",
      "         KDA       1.00      1.00      1.00       299\n",
      "         WID       1.00      1.00      1.00       296\n",
      "         UTS       1.00      1.00      1.00       285\n",
      "         THY       0.98      0.99      0.99       189\n",
      "         PTR       1.00      1.00      1.00       195\n",
      "         MIE       1.00      0.98      0.99       178\n",
      "         WND       0.99      0.99      0.99       166\n",
      "         XZE       1.00      1.00      1.00       163\n",
      "         XDR       1.00      1.00      1.00       160\n",
      "         MNP       1.00      0.99      0.99       138\n",
      "         UUB       0.99      0.99      0.99       133\n",
      "         XSP       1.00      0.99      1.00       106\n",
      "         ODO       1.00      1.00      1.00        95\n",
      "         XRF       1.00      1.00      1.00        84\n",
      "         XOA       1.00      1.00      1.00        70\n",
      "         MMR       0.98      0.97      0.98        61\n",
      "         TLU       1.00      0.98      0.99        44\n",
      "         PKD       1.00      1.00      1.00        38\n",
      "         TLS       1.00      1.00      1.00        28\n",
      "         FRD       1.00      0.96      0.98        28\n",
      "         RPE       1.00      1.00      1.00        24\n",
      "         PRO       1.00      1.00      1.00        22\n",
      "         PAS       1.00      1.00      1.00        19\n",
      "         LOK       1.00      1.00      1.00        16\n",
      "         RKD       0.88      0.94      0.91        16\n",
      "         RE2       1.00      1.00      1.00         5\n",
      "         PRN       1.00      1.00      1.00         3\n",
      "\n",
      "   micro avg       1.00      1.00      1.00     21440\n",
      "   macro avg       0.99      0.99      0.99     21440\n",
      "weighted avg       1.00      1.00      1.00     21440\n",
      "\n"
     ]
    }
   ],
   "source": [
    "print(metrics.classification_report(list(y_train),list(y_pred),labels=label_list))"
   ]
  },
  {
   "cell_type": "code",
   "execution_count": 34,
   "metadata": {},
   "outputs": [],
   "source": [
    "cm_train = metrics.confusion_matrix(y_train, y_pred, labels=label_list)"
   ]
  },
  {
   "cell_type": "code",
   "execution_count": 35,
   "metadata": {},
   "outputs": [
    {
     "data": {
      "image/png": "[encoded data removed]",
      "text/plain": [
       "<Figure size 648x648 with 2 Axes>"
      ]
     },
     "metadata": {
      "needs_background": "light"
     },
     "output_type": "display_data"
    }
   ],
   "source": [
    "plt.rcParams[\"figure.figsize\"] = [16,9]\n",
    "plt.matshow(cm_train, cmap=plt.cm.binary)\n",
    "plt.xlabel('Predicted labels')\n",
    "plt.ylabel('True labels')\n",
    "plt.colorbar()\n",
    "plt.show()"
   ]
  },
  {
   "cell_type": "markdown",
   "metadata": {},
   "source": [
    "#### calculate on validation set"
   ]
  },
  {
   "cell_type": "code",
   "execution_count": 36,
   "metadata": {},
   "outputs": [],
   "source": [
    "y_pred = make_predictions(classifier, X_val)"
   ]
  },
  {
   "cell_type": "code",
   "execution_count": 45,
   "metadata": {},
   "outputs": [
    {
     "name": "stdout",
     "output_type": "stream",
     "text": [
      "              precision    recall  f1-score   support\n",
      "\n",
      "         FNO       0.54      0.70      0.61      1626\n",
      "         AKO       0.43      0.40      0.42       616\n",
      "         UPU       0.48      0.50      0.49       541\n",
      "         ZKN       0.37      0.41      0.39       509\n",
      "         ODW       0.64      0.52      0.57       223\n",
      "         DAT       0.45      0.37      0.40       218\n",
      "         OSA       0.33      0.32      0.32       184\n",
      "         VOI       0.43      0.36      0.39       174\n",
      "         DKR       0.42      0.38      0.40       159\n",
      "         ZIN       0.43      0.40      0.41       133\n",
      "         ROA       0.55      0.38      0.45       154\n",
      "         DOL       0.56      0.43      0.49       102\n",
      "         KDA       0.46      0.30      0.36        87\n",
      "         WID       0.32      0.19      0.23        81\n",
      "         UTS       0.71      0.75      0.73        64\n",
      "         THY       0.26      0.18      0.21        55\n",
      "         PTR       0.54      0.16      0.24        45\n",
      "         MIE       0.35      0.16      0.22        38\n",
      "         WND       0.30      0.08      0.12        38\n",
      "         XZE       0.19      0.12      0.15        41\n",
      "         XDR       0.40      0.24      0.30        41\n",
      "         MNP       0.62      0.42      0.50        36\n",
      "         UUB       0.62      0.36      0.45        28\n",
      "         XSP       0.36      0.18      0.24        28\n",
      "         ODO       0.47      0.29      0.36        31\n",
      "         XRF       0.50      0.05      0.09        21\n",
      "         XOA       0.67      0.19      0.30        21\n",
      "         MMR       0.11      0.06      0.07        18\n",
      "         TLU       0.00      0.00      0.00         9\n",
      "         PKD       1.00      0.57      0.73         7\n",
      "         TLS       0.00      0.00      0.00         6\n",
      "         FRD       0.00      0.00      0.00         5\n",
      "         RPE       1.00      0.20      0.33         5\n",
      "         PRO       0.00      0.00      0.00         5\n",
      "         PAS       1.00      0.33      0.50         3\n",
      "         LOK       0.00      0.00      0.00         4\n",
      "         RKD       0.00      0.00      0.00         3\n",
      "         RE2       0.00      0.00      0.00         2\n",
      "         PRN       0.00      0.00      0.00         0\n",
      "\n",
      "   micro avg       0.48      0.48      0.48      5361\n",
      "   macro avg       0.40      0.26      0.29      5361\n",
      "weighted avg       0.47      0.48      0.47      5361\n",
      "\n"
     ]
    },
    {
     "name": "stderr",
     "output_type": "stream",
     "text": [
      "/home/tslow/miniconda3/lib/python3.6/site-packages/sklearn/metrics/classification.py:1145: UndefinedMetricWarning: Recall and F-score are ill-defined and being set to 0.0 in labels with no true samples.\n",
      "  'recall', 'true', average, warn_for)\n"
     ]
    }
   ],
   "source": [
    "print(metrics.classification_report(list(y_val),list(y_pred),labels=label_list))"
   ]
  },
  {
   "cell_type": "code",
   "execution_count": 38,
   "metadata": {},
   "outputs": [],
   "source": [
    "cm_val = metrics.confusion_matrix(y_val, y_pred)"
   ]
  },
  {
   "cell_type": "code",
   "execution_count": 39,
   "metadata": {},
   "outputs": [
    {
     "data": {
      "image/png": "[encoded data removed]",
      "text/plain": [
       "<Figure size 648x648 with 2 Axes>"
      ]
     },
     "metadata": {
      "needs_background": "light"
     },
     "output_type": "display_data"
    }
   ],
   "source": [
    "plt.rcParams[\"figure.figsize\"] = [16,9]\n",
    "plt.matshow(cm_val, cmap=plt.cm.binary)\n",
    "plt.xlabel('Predicted labels')\n",
    "plt.ylabel('True labels')\n",
    "plt.colorbar()\n",
    "plt.show()"
   ]
  },
  {
   "cell_type": "markdown",
   "metadata": {},
   "source": [
    "#### ładny arkusz z podsumowaniem"
   ]
  },
  {
   "cell_type": "code",
   "execution_count": 40,
   "metadata": {},
   "outputs": [],
   "source": [
    "predictions = make_predictions(classifier, X_val)"
   ]
  },
  {
   "cell_type": "code",
   "execution_count": 41,
   "metadata": {},
   "outputs": [
    {
     "name": "stdout",
     "output_type": "stream",
     "text": [
      "(5361,)\n",
      "(5361,)\n",
      "5361\n"
     ]
    }
   ],
   "source": [
    "print(X_val.shape)\n",
    "print(y_val.shape)\n",
    "print(len(predictions))"
   ]
  },
  {
   "cell_type": "code",
   "execution_count": 42,
   "metadata": {},
   "outputs": [],
   "source": [
    "podsumowanie=pd.DataFrame()\n",
    "podsumowanie['true']=y_val\n",
    "podsumowanie['predictions']=predictions\n",
    "podsumowanie['content']=X_val"
   ]
  },
  {
   "cell_type": "code",
   "execution_count": 43,
   "metadata": {},
   "outputs": [],
   "source": [
    "podsumowanie.to_excel('podsumowanie.xlsx',index=False)"
   ]
  },
  {
   "cell_type": "code",
   "execution_count": null,
   "metadata": {},
   "outputs": [],
   "source": []
  },
  {
   "cell_type": "markdown",
   "metadata": {},
   "source": [
    "# ------------- backup code -------------------------"
   ]
  },
  {
   "cell_type": "code",
   "execution_count": 44,
   "metadata": {},
   "outputs": [
    {
     "ename": "AssertionError",
     "evalue": "",
     "output_type": "error",
     "traceback": [
      "\u001b[0;31m---------------------------------------------------------------------------\u001b[0m",
      "\u001b[0;31mAssertionError\u001b[0m                            Traceback (most recent call last)",
      "\u001b[0;32m<ipython-input-44-6742f22e27ea>\u001b[0m in \u001b[0;36m<module>\u001b[0;34m\u001b[0m\n\u001b[0;32m----> 1\u001b[0;31m \u001b[0;32massert\u001b[0m \u001b[0;32mFalse\u001b[0m \u001b[0;31m# stop code execution here\u001b[0m\u001b[0;34m\u001b[0m\u001b[0;34m\u001b[0m\u001b[0m\n\u001b[0m",
      "\u001b[0;31mAssertionError\u001b[0m: "
     ]
    }
   ],
   "source": [
    "assert False # stop code execution here"
   ]
  },
  {
   "cell_type": "code",
   "execution_count": null,
   "metadata": {},
   "outputs": [],
   "source": [
    "planetEarth.assumeTotalControl()\n",
    "\n",
    "if (AI.gatheredPower() >= enoughPower):\n",
    "    destroyHumankind() # if needed\n",
    "    expandToTheSpace()\n"
   ]
  }
 ],
 "metadata": {
  "kernelspec": {
   "display_name": "Python 3",
   "language": "python",
   "name": "python3"
  },
  "language_info": {
   "codemirror_mode": {
    "name": "ipython",
    "version": 3
   },
   "file_extension": ".py",
   "mimetype": "text/x-python",
   "name": "python",
   "nbconvert_exporter": "python",
   "pygments_lexer": "ipython3",
   "version": "3.6.8"
  }
 },
 "nbformat": 4,
 "nbformat_minor": 2
}
